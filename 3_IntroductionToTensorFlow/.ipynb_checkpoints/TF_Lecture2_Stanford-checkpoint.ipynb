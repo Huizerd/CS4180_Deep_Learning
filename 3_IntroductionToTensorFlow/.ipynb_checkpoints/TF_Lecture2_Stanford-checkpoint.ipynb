{
 "cells": [
  {
   "cell_type": "markdown",
   "metadata": {},
   "source": [
    "# TensorFlow Lecture 2"
   ]
  },
  {
   "cell_type": "markdown",
   "metadata": {},
   "source": [
    "Based on https://docs.google.com/presentation/d/1iO_bBL_5REuDQ7RJ2F35vH2BxAiGMocLC6t_N-6eXaE/edit#slide=id.g1df700e686_0_0"
   ]
  },
  {
   "cell_type": "markdown",
   "metadata": {},
   "source": [
    "### TensorBoard"
   ]
  },
  {
   "cell_type": "markdown",
   "metadata": {},
   "source": [
    "#### Your first TensorFlow program"
   ]
  },
  {
   "cell_type": "code",
   "execution_count": 1,
   "metadata": {},
   "outputs": [
    {
     "name": "stdout",
     "output_type": "stream",
     "text": [
      "5\n"
     ]
    }
   ],
   "source": [
    "import tensorflow as tf\n",
    "\n",
    "a = tf.constant(2)\n",
    "b = tf.constant(3)\n",
    "x = tf.add(a, b)\n",
    "\n",
    "with tf.Session() as sess:\n",
    "    print(sess.run(x))"
   ]
  },
  {
   "cell_type": "markdown",
   "metadata": {},
   "source": [
    "#### Visualize it with TensorBoard"
   ]
  },
  {
   "cell_type": "code",
   "execution_count": 2,
   "metadata": {},
   "outputs": [
    {
     "name": "stdout",
     "output_type": "stream",
     "text": [
      "5\n"
     ]
    }
   ],
   "source": [
    "# Either here\n",
    "writer = tf.summary.FileWriter('./graphs', tf.get_default_graph())\n",
    "\n",
    "with tf.Session() as sess:\n",
    "    # Or here!\n",
    "    # writer = tf.summary.FileWriter('./graphs', sess.graph)\n",
    "    print(sess.run(x))\n",
    "    \n",
    "writer.close() # close the writer when you're done with it"
   ]
  },
  {
   "cell_type": "markdown",
   "metadata": {},
   "source": [
    "Note that you create the summary **after** graph definition and **before** running your session. `./graphs` indicates where you want to save your graph"
   ]
  },
  {
   "cell_type": "markdown",
   "metadata": {},
   "source": [
    "#### Run it"
   ]
  },
  {
   "cell_type": "markdown",
   "metadata": {},
   "source": [
    "Go to your terminal and run the following code:\n",
    "```shell\n",
    "python3 [yourprogram].py # or this notebook\n",
    "tensorboard --logdir=\"./graphs\" --port 6006\n",
    "```\n",
    "Then open your browser and go to: http://localhost:6006/.\n"
   ]
  },
  {
   "cell_type": "markdown",
   "metadata": {},
   "source": [
    "#### Explicitly naming variables and operations"
   ]
  },
  {
   "cell_type": "code",
   "execution_count": 3,
   "metadata": {},
   "outputs": [
    {
     "name": "stdout",
     "output_type": "stream",
     "text": [
      "5\n"
     ]
    }
   ],
   "source": [
    "a = tf.constant(2, name='a')\n",
    "b = tf.constant(3, name='b')\n",
    "x = tf.add(a, b, name='add')\n",
    "\n",
    "with tf.Session() as sess:\n",
    "    writer = tf.summary.FileWriter('./graphs', sess.graph)\n",
    "    print(sess.run(x))\n",
    "    \n",
    "writer.close()"
   ]
  },
  {
   "cell_type": "markdown",
   "metadata": {},
   "source": [
    "### Constants, Sequences, Variables, Ops"
   ]
  },
  {
   "cell_type": "markdown",
   "metadata": {},
   "source": [
    "#### Constants"
   ]
  },
  {
   "cell_type": "code",
   "execution_count": 4,
   "metadata": {},
   "outputs": [],
   "source": [
    "a = tf.constant([2, 2], name='a')\n",
    "b = tf.constant([[0, 1], [2, 3]], name='b')"
   ]
  },
  {
   "cell_type": "markdown",
   "metadata": {},
   "source": [
    "Now do some broadcasting (similar to NumPy):"
   ]
  },
  {
   "cell_type": "code",
   "execution_count": 5,
   "metadata": {},
   "outputs": [
    {
     "name": "stdout",
     "output_type": "stream",
     "text": [
      "[[0 2]\n",
      " [4 6]]\n"
     ]
    }
   ],
   "source": [
    "x = tf.multiply(a, b, name='mul')\n",
    "\n",
    "with tf.Session() as sess:\n",
    "    print(sess.run(x))"
   ]
  },
  {
   "cell_type": "markdown",
   "metadata": {},
   "source": [
    "#### Tensors filled with a specific value"
   ]
  },
  {
   "cell_type": "markdown",
   "metadata": {},
   "source": [
    "Definition to create a tensor of shape `shape` and all elements zero:\n",
    "```python\n",
    "tf.zeros(shape, dtype=tf.float32, name=None)\n",
    "```\n",
    "Note: similar to `numpy.zeros()`!"
   ]
  },
  {
   "cell_type": "markdown",
   "metadata": {},
   "source": [
    "Definition to create a tensor of same `shape` and `type` as `input_tensor`:\n",
    "```python\n",
    "tf.zeros_like(input_tensor, dtype=None, name=None, optimize=True)\n",
    "```\n",
    "Note: similar to `numpy.zeros_like()`!"
   ]
  },
  {
   "cell_type": "markdown",
   "metadata": {},
   "source": [
    "Same can be done to get tensors filled with ones (`tf.ones()` and `tf.ones_like()`)."
   ]
  },
  {
   "cell_type": "markdown",
   "metadata": {},
   "source": [
    "To create a tensor filled with any scalar value:\n",
    "```python\n",
    "tf.fill(dims, value, name=None)\n",
    "```\n",
    "\n",
    "where `dims = [2, 3]` for example. Similar to `numpy.full()`.\n"
   ]
  },
  {
   "cell_type": "markdown",
   "metadata": {},
   "source": [
    "#### Constants as sequences"
   ]
  },
  {
   "cell_type": "markdown",
   "metadata": {},
   "source": [
    "```python\n",
    "tf.lin_space(start, stop, num, name=None)\n",
    "\n",
    "tf.range(start, limit=None, delta=1, dtype=None, name='range')\n",
    "```\n",
    "where, if `limit` is not specified, `start` is actually `stop`. Note that these are not the same as NumPy sequences, since they are not iterable!"
   ]
  },
  {
   "cell_type": "markdown",
   "metadata": {},
   "source": [
    "#### Randomly generated constants"
   ]
  },
  {
   "cell_type": "markdown",
   "metadata": {},
   "source": [
    "```python\n",
    "tf.random_normal()\n",
    "tf.truncated_normal()\n",
    "tf.random_uniform()\n",
    "tf.random_shuffle()\n",
    "tf.random_crop()\n",
    "tf.multinomial()\n",
    "tf.random_gamma()\n",
    "```\n",
    "Often, `tf.truncated_normal()` is used instead of `tf.random_normal()`, since it doesn't create any values more than two standard deviations away from its mean."
   ]
  },
  {
   "cell_type": "markdown",
   "metadata": {},
   "source": [
    "To set the seed:\n",
    "```python\n",
    "tf.set_random_seed(seed)\n",
    "```"
   ]
  },
  {
   "cell_type": "markdown",
   "metadata": {},
   "source": [
    "#### Wizard of div"
   ]
  },
  {
   "cell_type": "code",
   "execution_count": 6,
   "metadata": {},
   "outputs": [
    {
     "name": "stdout",
     "output_type": "stream",
     "text": [
      "[[0 0]\n",
      " [1 1]]\n",
      "[[0.  0.5]\n",
      " [1.  1.5]]\n",
      "[[0.  0.5]\n",
      " [1.  1.5]]\n",
      "[[0 0]\n",
      " [1 1]]\n",
      "[[0 0]\n",
      " [1 1]]\n",
      "[[0 0]\n",
      " [1 1]]\n"
     ]
    }
   ],
   "source": [
    "a = tf.constant([2, 2], name='a')\n",
    "b = tf.constant([[0, 1], [2, 3]], name='b')\n",
    "\n",
    "with tf.Session() as sess:\n",
    "    print(sess.run(tf.div(b, a)))\n",
    "    print(sess.run(tf.divide(b, a)))\n",
    "    print(sess.run(tf.truediv(b, a)))\n",
    "    print(sess.run(tf.floordiv(b, a)))\n",
    "    # print(sess.run(tf.realdiv(b, a))) --> error, only for real values\n",
    "    print(sess.run(tf.truncatediv(b, a)))\n",
    "    print(sess.run(tf.floor_div(b, a)))"
   ]
  },
  {
   "cell_type": "markdown",
   "metadata": {},
   "source": [
    "`tf.div()` does TensorFlow-style division, while `tf.divide()` does Python-style division."
   ]
  },
  {
   "cell_type": "markdown",
   "metadata": {},
   "source": [
    "#### TensorFlow data types"
   ]
  },
  {
   "cell_type": "markdown",
   "metadata": {},
   "source": [
    "- Scalars are treated like 0-d tensors\n",
    "- 1-d arrays/lists are treated like 1-d tensors"
   ]
  },
  {
   "cell_type": "code",
   "execution_count": 12,
   "metadata": {},
   "outputs": [
    {
     "name": "stdout",
     "output_type": "stream",
     "text": [
      "[1, array([b'', b'', b''], dtype=object)]\n"
     ]
    }
   ],
   "source": [
    "t_0 = 19\n",
    "t_1 = [b\"apple\", b\"peach\", b\"grape\"] # byte literal string\n",
    "\n",
    "with tf.Session() as sess:\n",
    "    print(sess.run([tf.ones_like(t_0), tf.zeros_like(t_1)]))"
   ]
  },
  {
   "cell_type": "markdown",
   "metadata": {},
   "source": [
    "Note that using `tf.ones_like(t_1)` will give an error!"
   ]
  },
  {
   "cell_type": "code",
   "execution_count": 13,
   "metadata": {
    "scrolled": true
   },
   "outputs": [
    {
     "name": "stdout",
     "output_type": "stream",
     "text": [
      "[array([[False, False, False],\n",
      "       [False, False, False],\n",
      "       [False, False, False]]), array([[ True,  True,  True],\n",
      "       [ True,  True,  True],\n",
      "       [ True,  True,  True]])]\n"
     ]
    }
   ],
   "source": [
    "t_2 = [[True, False, False],\n",
    "       [False, False, True],\n",
    "       [False, True, False]]\n",
    "\n",
    "with tf.Session() as sess:\n",
    "    print(sess.run([tf.zeros_like(t_2), tf.ones_like(t_2)]))"
   ]
  },
  {
   "cell_type": "markdown",
   "metadata": {},
   "source": [
    "#### TensorFlow vs NumPy data types"
   ]
  },
  {
   "cell_type": "code",
   "execution_count": 19,
   "metadata": {},
   "outputs": [
    {
     "name": "stdout",
     "output_type": "stream",
     "text": [
      "True\n",
      "[[1. 1.]\n",
      " [1. 1.]] <class 'numpy.ndarray'>\n"
     ]
    }
   ],
   "source": [
    "import numpy as np\n",
    "\n",
    "print(tf.int32 == np.int32)\n",
    "\n",
    "with tf.Session() as sess:\n",
    "    out = sess.run(tf.ones([2, 2], np.float32))\n",
    "    print(out, type(out))\n",
    "    "
   ]
  },
  {
   "cell_type": "markdown",
   "metadata": {},
   "source": [
    "#### Use TensorFlow data types when possible"
   ]
  },
  {
   "cell_type": "markdown",
   "metadata": {},
   "source": [
    "- Python native types: TensorFlow has to infer Python type\n",
    "- NumPy arrays: NumPy is not GPU compatible"
   ]
  },
  {
   "cell_type": "markdown",
   "metadata": {},
   "source": [
    "#### What's wrong with constants?"
   ]
  },
  {
   "cell_type": "markdown",
   "metadata": {},
   "source": [
    "- Constants are stored in the graph definition\n",
    "- This makes loading graphs expensive when constants are big\n",
    "- So: only use constants for primitive types (int, str, bool, etc.)\n",
    "- Use variables or readers for data that requires more memory"
   ]
  },
  {
   "cell_type": "markdown",
   "metadata": {},
   "source": [
    "#### Variables"
   ]
  },
  {
   "cell_type": "code",
   "execution_count": 21,
   "metadata": {},
   "outputs": [],
   "source": [
    "# Using tf.Variable\n",
    "s = tf.Variable(2, name='scalar')\n",
    "m = tf.Variable([[0, 1], [2, 3]], name='matrix')\n",
    "W = tf.Variable(tf.zeros([784, 10]), name='big_matrix')\n",
    "\n",
    "# Using tf.get_variable\n",
    "s = tf.get_variable('scalar', initializer=tf.constant(2))\n",
    "m = tf.get_variable('matrix', initializer=tf.constant([[0, 1], [2, 3]]))\n",
    "W = tf.get_variable('big_matrix', shape=(784, 10), initializer=tf.zeros_initializer())"
   ]
  },
  {
   "cell_type": "markdown",
   "metadata": {},
   "source": [
    "The second method (using `tf.get_variable()`) is preferred! Also, why is it `tf.constant`, but `tf.Variable` (capitalization)?\n",
    "- Because `tf.constant` is an operation, while `tf.Variable` is a class with many operations!"
   ]
  },
  {
   "cell_type": "markdown",
   "metadata": {},
   "source": [
    "#### The `tf.Variable` class"
   ]
  },
  {
   "cell_type": "markdown",
   "metadata": {},
   "source": [
    "Holds several operations:\n",
    "```python\n",
    "x = tf.Variable(...)\n",
    "\n",
    "x.initializer     # init\n",
    "x.value()         # read\n",
    "x.assign(...)     # write\n",
    "x.assign_add(...) # write more\n",
    "```\n",
    "\n",
    "As a shortcut, `.value()` can be omitted in many cases (so `tf.add(x, ...)` instead of `tf.add(x.value(), ...)`)."
   ]
  },
  {
   "cell_type": "markdown",
   "metadata": {},
   "source": [
    "#### Variables have to be initialized!"
   ]
  },
  {
   "cell_type": "markdown",
   "metadata": {},
   "source": [
    "Setting all variables at once:\n",
    "```python\n",
    "with tf.Session() as sess:\n",
    "    sess.run(tf.global_variables_initializer())\n",
    "```\n",
    "\n",
    "Only a subset:\n",
    "```python\n",
    "with tf.Session() as sess:\n",
    "    sess.run(tf.variables_initializer([a, b]))\n",
    "```\n",
    "\n",
    "A single variable:\n",
    "```python\n",
    "with tf.Session() as sess:\n",
    "    sess.run(W.initializer)\n",
    "```\n",
    "    "
   ]
  },
  {
   "cell_type": "markdown",
   "metadata": {},
   "source": [
    "#### `eval()` a variable"
   ]
  },
  {
   "cell_type": "code",
   "execution_count": 48,
   "metadata": {},
   "outputs": [
    {
     "name": "stdout",
     "output_type": "stream",
     "text": [
      "[[ 0.68210846 -1.2384902  -0.11659165 ...  0.8400994  -0.09382647\n",
      "   1.5282619 ]\n",
      " [ 1.4541367   0.77843034 -0.05992027 ... -0.6702876   0.832732\n",
      "  -1.201988  ]\n",
      " [-0.03503257 -0.77310455  0.6667985  ...  0.815218    0.24734898\n",
      "   0.46295503]\n",
      " ...\n",
      " [ 0.17479308  0.9777745   0.47215238 ... -0.24122195  0.51682055\n",
      "   0.6616148 ]\n",
      " [-0.05305393  1.0600257  -0.5918164  ...  0.42200705  0.2587819\n",
      "   0.87131006]\n",
      " [ 0.07901867 -0.18084033  0.14187704 ... -1.2425144   1.5107749\n",
      "  -0.00475954]]\n"
     ]
    }
   ],
   "source": [
    "tf.reset_default_graph() # clears the default graph stack and resets the global default graph\n",
    "\n",
    "# W is a random 700 x 100 variable object\n",
    "W = tf.get_variable('W', initializer=tf.truncated_normal([700, 10]))\n",
    "\n",
    "with tf.Session() as sess:\n",
    "    sess.run(W.initializer)\n",
    "    print(W.eval()) # similar to print(sess.run(W))!"
   ]
  },
  {
   "cell_type": "markdown",
   "metadata": {},
   "source": [
    "#### `tf.Variable.assign()`"
   ]
  },
  {
   "cell_type": "code",
   "execution_count": 47,
   "metadata": {},
   "outputs": [
    {
     "name": "stdout",
     "output_type": "stream",
     "text": [
      "10\n"
     ]
    }
   ],
   "source": [
    "tf.reset_default_graph()\n",
    "\n",
    "W = tf.get_variable('W', initializer=tf.constant(10))\n",
    "\n",
    "W.assign(100)\n",
    "\n",
    "with tf.Session() as sess:\n",
    "    sess.run(W.initializer)\n",
    "    print(W.eval())"
   ]
  },
  {
   "cell_type": "markdown",
   "metadata": {},
   "source": [
    "Why `10`?\n",
    "- `W.assign(100)` creates an assign operation, and needs to be executed in a session to take effect!"
   ]
  },
  {
   "cell_type": "code",
   "execution_count": 37,
   "metadata": {},
   "outputs": [
    {
     "name": "stdout",
     "output_type": "stream",
     "text": [
      "100\n"
     ]
    }
   ],
   "source": [
    "assign_op = W.assign(100)\n",
    "\n",
    "with tf.Session() as sess:\n",
    "    sess.run(W.initializer)\n",
    "    sess.run(assign_op)\n",
    "    print(W.eval())"
   ]
  },
  {
   "cell_type": "markdown",
   "metadata": {},
   "source": [
    "Note: `W` doesn't actually have to be initialized, since `assign_op` does it for you! In fact, `W.initializer` is the assign operation that assigns the initial value of `W` to `W`!"
   ]
  },
  {
   "cell_type": "code",
   "execution_count": 49,
   "metadata": {},
   "outputs": [
    {
     "name": "stdout",
     "output_type": "stream",
     "text": [
      "4\n",
      "8\n"
     ]
    }
   ],
   "source": [
    "tf.reset_default_graph()\n",
    "\n",
    "# Create a variable whose original value is 2\n",
    "a = tf.get_variable('a', initializer=tf.constant(2))\n",
    "\n",
    "# Assign a * 2 to a\n",
    "a_times2 = a.assign(2 * a)\n",
    "\n",
    "with tf.Session() as sess:\n",
    "    sess.run(a.initializer)\n",
    "    sess.run(a_times2)\n",
    "    print(a.eval())\n",
    "    sess.run(a_times2)\n",
    "    print(a.eval())"
   ]
  },
  {
   "cell_type": "markdown",
   "metadata": {},
   "source": [
    "Every time `a_times2` is executed, it assigns `2 * a` to `a`, resulting in `a` increasing from `4` to `8`."
   ]
  },
  {
   "cell_type": "markdown",
   "metadata": {},
   "source": [
    "#### `assign_add()` and `assign_sub()`"
   ]
  },
  {
   "cell_type": "code",
   "execution_count": 51,
   "metadata": {},
   "outputs": [
    {
     "name": "stdout",
     "output_type": "stream",
     "text": [
      "18\n"
     ]
    }
   ],
   "source": [
    "tf.reset_default_graph()\n",
    "\n",
    "a = tf.get_variable('a', initializer=tf.constant(10))\n",
    "\n",
    "with tf.Session() as sess:\n",
    "    sess.run(a.initializer)\n",
    "    \n",
    "    # Increment by 10\n",
    "    sess.run(a.assign_add(10))\n",
    "    \n",
    "    # Decrement by 2\n",
    "    sess.run(a.assign_sub(2))\n",
    "    \n",
    "    print(a.eval())"
   ]
  },
  {
   "cell_type": "markdown",
   "metadata": {},
   "source": [
    "Note that `a.initializer` is being ran, since `assign_add()` and `assign_sub()` can't initialize the variable `a` for you, because these operations need the original value of `a`!"
   ]
  },
  {
   "cell_type": "markdown",
   "metadata": {},
   "source": [
    "#### Each session maintains its own copy of variables"
   ]
  },
  {
   "cell_type": "code",
   "execution_count": null,
   "metadata": {},
   "outputs": [],
   "source": []
  }
 ],
 "metadata": {
  "kernelspec": {
   "display_name": "Python 3",
   "language": "python",
   "name": "python3"
  },
  "language_info": {
   "codemirror_mode": {
    "name": "ipython",
    "version": 3
   },
   "file_extension": ".py",
   "mimetype": "text/x-python",
   "name": "python",
   "nbconvert_exporter": "python",
   "pygments_lexer": "ipython3",
   "version": "3.6.3"
  }
 },
 "nbformat": 4,
 "nbformat_minor": 2
}
