{
 "cells": [
  {
   "cell_type": "code",
   "execution_count": 1,
   "metadata": {},
   "outputs": [],
   "source": [
    "# These are all the modules we'll be using later. Make sure you can import them\n",
    "# before proceeding further.\n",
    "from __future__ import print_function\n",
    "import imageio\n",
    "import matplotlib.pyplot as plt\n",
    "import numpy as np\n",
    "import os\n",
    "import sys\n",
    "import tarfile\n",
    "from IPython.display import display, Image\n",
    "from sklearn.linear_model import LogisticRegression\n",
    "from six.moves.urllib.request import urlretrieve\n",
    "from six.moves import cPickle as pickle\n",
    "\n",
    "# Config the matplotlib backend as plotting inline in IPython\n",
    "%matplotlib inline"
   ]
  },
  {
   "cell_type": "markdown",
   "metadata": {},
   "source": [
    "Load the data from Week 2"
   ]
  },
  {
   "cell_type": "code",
   "execution_count": 2,
   "metadata": {},
   "outputs": [],
   "source": [
    "data_root = '.' # Change me to store data elsewhere\n",
    "\n",
    "pickle_file = os.path.join(data_root, 'notMNIST_subsampled.pickle')\n",
    "\n",
    "with open(pickle_file,'rb') as f:  # Python 3: open(..., 'rb')\n",
    "    data_from_pickle = pickle.load(f)\n",
    "\n",
    "Xtrn = data_from_pickle['Xtrn']\n",
    "Ytrn = data_from_pickle['Ytrn']\n",
    "\n",
    "Xtst = data_from_pickle['Xtst']\n",
    "Ytst = data_from_pickle['Ytst']"
   ]
  },
  {
   "cell_type": "markdown",
   "metadata": {},
   "source": [
    "Train logistic regression model on train data, and evaluate on test data (should be relatively fast)"
   ]
  },
  {
   "cell_type": "code",
   "execution_count": 3,
   "metadata": {},
   "outputs": [
    {
     "name": "stdout",
     "output_type": "stream",
     "text": [
      "convergence after 20 epochs took 2 seconds\n",
      "Accuracy on test data:  0.88\n"
     ]
    },
    {
     "name": "stderr",
     "output_type": "stream",
     "text": [
      "[Parallel(n_jobs=1)]: Done   1 out of   1 | elapsed:    2.6s finished\n"
     ]
    }
   ],
   "source": [
    "logreg = LogisticRegression(C=0.01,multi_class='multinomial',verbose=1,solver='sag',max_iter=1000)\n",
    "logreg.fit(Xtrn, Ytrn)\n",
    "test_accuracy = logreg.score(Xtst, Ytst)\n",
    "print(\"Accuracy on test data: %5.2f\" % test_accuracy)"
   ]
  },
  {
   "cell_type": "markdown",
   "metadata": {},
   "source": [
    "Get the weights matrix from the logistic regressor"
   ]
  },
  {
   "cell_type": "code",
   "execution_count": 15,
   "metadata": {},
   "outputs": [
    {
     "name": "stdout",
     "output_type": "stream",
     "text": [
      "Shape of W:  (10, 784)\n",
      "Shape of b:  (10, 1)\n",
      "Shape of x:  (784, 1000)\n",
      "Shape of y:  (1, 1000)\n"
     ]
    }
   ],
   "source": [
    "W = logreg.coef_\n",
    "print(\"Shape of W: \", W.shape)\n",
    "\n",
    "b = logreg.intercept_.reshape(-1, 1)\n",
    "print(\"Shape of b: \", b.shape)\n",
    "\n",
    "x = Xtst.T\n",
    "print(\"Shape of x: \", x.shape)\n",
    "\n",
    "y = Ytst.reshape(1, -1)\n",
    "print(\"Shape of y: \", y.shape)"
   ]
  },
  {
   "cell_type": "code",
   "execution_count": 5,
   "metadata": {
    "scrolled": false
   },
   "outputs": [
    {
     "data": {
      "text/plain": [
       "array([[-0.06002503, -0.08516808, -0.08845608, ...,  0.14852168,\n",
       "         0.17145757,  0.15799154],\n",
       "       [ 0.06462533,  0.06438033,  0.0637303 , ..., -0.08991464,\n",
       "        -0.10368989, -0.07581469],\n",
       "       [-0.0598387 , -0.07256599, -0.0701143 , ..., -0.01746196,\n",
       "         0.00495447,  0.01275558],\n",
       "       ...,\n",
       "       [ 0.01541423,  0.03194348,  0.03653289, ...,  0.07846454,\n",
       "         0.07742001,  0.04599128],\n",
       "       [ 0.03479907,  0.01811513,  0.02128809, ...,  0.04348871,\n",
       "         0.03351119,  0.04906694],\n",
       "       [-0.02476679, -0.02470725, -0.01232241, ..., -0.04806808,\n",
       "        -0.06394553, -0.05248239]])"
      ]
     },
     "execution_count": 5,
     "metadata": {},
     "output_type": "execute_result"
    }
   ],
   "source": [
    "W"
   ]
  },
  {
   "cell_type": "code",
   "execution_count": 30,
   "metadata": {},
   "outputs": [
    {
     "name": "stdout",
     "output_type": "stream",
     "text": [
      "0.884\n"
     ]
    }
   ],
   "source": [
    "import tensorflow as tf\n",
    "\n",
    "tf.reset_default_graph()\n",
    "\n",
    "pW = tf.placeholder(tf.float32, shape=(10, 784), name='W')\n",
    "px = tf.placeholder(tf.float32, shape=(784, 1000), name='x')\n",
    "py = tf.placeholder(tf.float32, shape=(1, 1000), name='y')\n",
    "pb = tf.placeholder(tf.float32, shape=(10, 1), name='b')\n",
    "\n",
    "softmax = tf.exp(tf.matmul(pW, px) + pb) / tf.reduce_sum(tf.exp(tf.matmul(pW, px) + pb), axis=0)\n",
    "# yTF = tf.nn.softmax(tf.matmul(pW, px) + pb)\n",
    "\n",
    "# tf.reduce_max vs tf.maximum? --> comparing two tensors or reducing the dimension of a tensor\n",
    "pred = tf.argmax(softmax, axis=0)\n",
    "acc  = tf.reduce_sum(tf.cast(tf.equal(pred, y), tf.int32)) / tf.size(y)\n",
    "sess = tf.InteractiveSession()\n",
    "\n",
    "writer = tf.summary.FileWriter('graphs/notMNIST', sess.graph)\n",
    "\n",
    "feed = {pW: W, px: x, pb: b, py: y}\n",
    "\n",
    "print(acc.eval(feed_dict=feed))\n",
    "\n",
    "writer.close()\n",
    "sess.close()\n",
    "    "
   ]
  }
 ],
 "metadata": {
  "kernelspec": {
   "display_name": "Python 3",
   "language": "python",
   "name": "python3"
  },
  "language_info": {
   "codemirror_mode": {
    "name": "ipython",
    "version": 3
   },
   "file_extension": ".py",
   "mimetype": "text/x-python",
   "name": "python",
   "nbconvert_exporter": "python",
   "pygments_lexer": "ipython3",
   "version": "3.6.3"
  }
 },
 "nbformat": 4,
 "nbformat_minor": 2
}
