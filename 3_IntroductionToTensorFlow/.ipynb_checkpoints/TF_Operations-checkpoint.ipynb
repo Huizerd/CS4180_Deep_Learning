{
 "cells": [
  {
   "cell_type": "code",
   "execution_count": 1,
   "metadata": {},
   "outputs": [],
   "source": [
    "import os\n",
    "os.environ['TF_CPP_MIN_LOG_LEVEL']='2' # no warning\n",
    "import tensorflow as tf"
   ]
  },
  {
   "cell_type": "markdown",
   "metadata": {},
   "source": [
    "Create two random 0-d tensors x and y of any distribution. The output should be the sum. We do the first two problem for you:"
   ]
  },
  {
   "cell_type": "code",
   "execution_count": 3,
   "metadata": {},
   "outputs": [
    {
     "name": "stdout",
     "output_type": "stream",
     "text": [
      "0.77193177\n",
      "0.85977876\n",
      "1.0601057\n"
     ]
    }
   ],
   "source": [
    "sess = tf.InteractiveSession()\n",
    "x = tf.random_uniform([])  # Empty array as shape creates a scalar.\n",
    "y = tf.random_uniform([])\n",
    "out = tf.add(x,y)\n",
    "print(x.eval())\n",
    "print(y.eval())\n",
    "print(out.eval())"
   ]
  },
  {
   "cell_type": "markdown",
   "metadata": {},
   "source": [
    "Now try to look at variable x and y. What do you notice?\n",
    "\n",
    "\n",
    "You can see that they do not \n",
    "give the result of your calculation. The reason is that:\n",
    "TensorFlow has several ops that create random tensors with different distributions.\n",
    "The random ops are stateful, and create new random values each time they are evaluated.\n",
    "To fix this we can use tf.Variables or you can run x,y and out in the same time, see the example below."
   ]
  },
  {
   "cell_type": "code",
   "execution_count": 5,
   "metadata": {},
   "outputs": [
    {
     "name": "stdout",
     "output_type": "stream",
     "text": [
      "0.21085465\n",
      "0.35838008\n",
      "0.5692347\n"
     ]
    }
   ],
   "source": [
    "x = tf.get_variable('x', initializer=tf.random_uniform([]))\n",
    "y = tf.get_variable('y', initializer=tf.random_uniform([]))\n",
    "\n",
    "# x = tf.Variable(tf.random_uniform([]))  # Empty array as shape creates a scalar.\n",
    "# y = tf.Variable(tf.random_uniform([]))\n",
    "init_op = tf.global_variables_initializer() # Init function\n",
    "out = tf.add(x,y)\n",
    "sess.run(init_op) # first init vars\n",
    "print(x.eval())\n",
    "print(y.eval())\n",
    "print(out.eval())"
   ]
  },
  {
   "cell_type": "markdown",
   "metadata": {},
   "source": [
    "Observe that now the calculation is correct. You can also use a normal session if you prefer, see below"
   ]
  },
  {
   "cell_type": "code",
   "execution_count": 6,
   "metadata": {},
   "outputs": [
    {
     "name": "stdout",
     "output_type": "stream",
     "text": [
      "0.697088\n",
      "0.090429306\n",
      "0.7875173\n"
     ]
    }
   ],
   "source": [
    "with tf.Session() as sess:\n",
    "\n",
    "    x = tf.random_uniform([])  # Empty array as shape creates a scalar.\n",
    "    y = tf.random_uniform([])\n",
    "    out = tf.add(x, y)\n",
    "    x_out, y_out, out_out = sess.run([x,y,out])\n",
    "    print(x_out)\n",
    "    print(y_out)\n",
    "    print(out_out)"
   ]
  },
  {
   "cell_type": "markdown",
   "metadata": {
    "collapsed": true
   },
   "source": [
    "1a: Create two random 0-d tensors x and y of any distribution.\n",
    "Create a TensorFlow object that returns x + y if x > y, and x - y otherwise.\n",
    "Hint: look up tf.cond()\n",
    "We also show you how to do this one:"
   ]
  },
  {
   "cell_type": "code",
   "execution_count": 11,
   "metadata": {},
   "outputs": [
    {
     "name": "stdout",
     "output_type": "stream",
     "text": [
      "0.896227\n",
      "0.35995746\n",
      "1.2561845\n"
     ]
    }
   ],
   "source": [
    "tf.reset_default_graph()\n",
    "\n",
    "sess = tf.InteractiveSession()\n",
    "x = tf.get_variable('x', initializer=tf.random_uniform([]))\n",
    "y = tf.get_variable('y', initializer=tf.random_uniform([]))\n",
    "init_op = tf.global_variables_initializer()\n",
    "out = tf.cond(x > y, lambda: tf.add(x, y), lambda: tf.subtract(x, y))\n",
    "sess.run(init_op)\n",
    "print(x.eval())\n",
    "print(y.eval())\n",
    "print(out.eval())\n",
    "sess.close()"
   ]
  },
  {
   "cell_type": "markdown",
   "metadata": {},
   "source": [
    "1b: Create two 0-d tensors x and y randomly selected from the range [-1, 1).\n",
    "Return x + y if x < y, x - y if x > y, 0 otherwise.\n",
    "Hint: Look up tf.case()."
   ]
  },
  {
   "cell_type": "code",
   "execution_count": 29,
   "metadata": {},
   "outputs": [
    {
     "name": "stdout",
     "output_type": "stream",
     "text": [
      "WARNING:tensorflow:case: An unordered dictionary of predicate/fn pairs was provided, but exclusive=False. The order of conditional tests is deterministic but not guaranteed.\n",
      "0.46390927\n",
      "0.2184757\n",
      "0.24543357\n"
     ]
    }
   ],
   "source": [
    "tf.reset_default_graph()\n",
    "\n",
    "x = tf.get_variable('x', initializer=tf.random_uniform([]))\n",
    "y = tf.get_variable('y', initializer=tf.random_uniform([]))\n",
    "\n",
    "f3 = lambda: tf.constant(0, dtype=tf.float32)\n",
    "\n",
    "predFn = {x < y: lambda: x + y, x > y: lambda: x - y}\n",
    "out    = tf.case(predFn, default=f3)\n",
    "\n",
    "with tf.Session() as sess:\n",
    "    sess.run(tf.global_variables_initializer())\n",
    "    print(x.eval())\n",
    "    print(y.eval())\n",
    "    print(out.eval())"
   ]
  },
  {
   "cell_type": "markdown",
   "metadata": {},
   "source": [
    "1c: Create the tensor x of the value [[0, -2, -1], [0, 1, 2]] \n",
    "and y as a tensor of zeros with the same shape as x.\n",
    "Return a boolean tensor that yields Trues if x equals y element-wise.\n",
    "Hint: Look up tf.equal()."
   ]
  },
  {
   "cell_type": "code",
   "execution_count": 35,
   "metadata": {},
   "outputs": [
    {
     "name": "stdout",
     "output_type": "stream",
     "text": [
      "[[ True False False]\n",
      " [ True False False]]\n"
     ]
    }
   ],
   "source": [
    "tf.reset_default_graph()\n",
    "\n",
    "x = tf.get_variable('x', initializer=tf.constant([[0, -2, -1], [0, 1, 2]], dtype=tf.float32))\n",
    "y = tf.get_variable('y', shape=(2, 3), initializer=tf.zeros_initializer)\n",
    "\n",
    "out = tf.equal(x, y)\n",
    "\n",
    "with tf.Session() as sess:\n",
    "    sess.run(tf.global_variables_initializer())\n",
    "    print(out.eval())\n",
    "    "
   ]
  },
  {
   "cell_type": "markdown",
   "metadata": {
    "collapsed": true
   },
   "source": [
    "1d: Use the tensor x given below.\n",
    "Get the indices of elements in x whose values are greater than 30.\n",
    "Hint: Use tf.where().\n",
    "Then extract elements whose values are greater than 30.\n",
    "Hint: Use tf.gather()."
   ]
  },
  {
   "cell_type": "code",
   "execution_count": 37,
   "metadata": {},
   "outputs": [
    {
     "name": "stdout",
     "output_type": "stream",
     "text": [
      "[[31.190735]\n",
      " [30.97266 ]\n",
      " [38.084503]\n",
      " [34.944454]\n",
      " [34.45999 ]\n",
      " [36.01657 ]\n",
      " [30.20379 ]\n",
      " [33.711494]\n",
      " [36.055565]]\n"
     ]
    }
   ],
   "source": [
    "tf.reset_default_graph()\n",
    "\n",
    "x = tf.constant([29.05088806,  27.61298943,  31.19073486,  29.35532951,\n",
    "\t\t        30.97266006,  26.67541885,  38.08450317,  20.74983215,\n",
    "\t\t        34.94445419,  34.45999146,  29.06485367,  36.01657104,\n",
    "\t\t        27.88236427,  20.56035233,  30.20379066,  29.51215172,\n",
    "\t\t        33.71149445,  28.59134293,  36.05556488,  28.66994858])\n",
    "\n",
    "idx = tf.where(x > 30.)\n",
    "out = tf.gather(x, idx)\n",
    "\n",
    "with tf.Session() as sess:\n",
    "    sess.run(tf.global_variables_initializer())\n",
    "    print(out.eval())"
   ]
  },
  {
   "cell_type": "markdown",
   "metadata": {},
   "source": [
    "1e: Create a diagnoal 2-d tensor of size 6 x 6 with the diagonal values of 1,\n",
    "2, ..., 6\n",
    "Hint: Use tf.range() and tf.diag()."
   ]
  },
  {
   "cell_type": "code",
   "execution_count": 39,
   "metadata": {},
   "outputs": [
    {
     "name": "stdout",
     "output_type": "stream",
     "text": [
      "[[1 0 0 0 0 0]\n",
      " [0 2 0 0 0 0]\n",
      " [0 0 3 0 0 0]\n",
      " [0 0 0 4 0 0]\n",
      " [0 0 0 0 5 0]\n",
      " [0 0 0 0 0 6]]\n"
     ]
    }
   ],
   "source": [
    "tf.reset_default_graph()\n",
    "\n",
    "x = tf.get_variable('x', initializer=tf.diag(tf.range(1, 7)))\n",
    "\n",
    "with tf.Session() as sess:\n",
    "    sess.run(tf.global_variables_initializer())\n",
    "    print(x.eval())"
   ]
  },
  {
   "cell_type": "markdown",
   "metadata": {},
   "source": [
    "1f: Create a random 2-d tensor of size 10 x 10 from any distribution.\n",
    "Calculate its determinant.\n",
    "Hint: Look at tf.matrix_determinant()."
   ]
  },
  {
   "cell_type": "code",
   "execution_count": 43,
   "metadata": {},
   "outputs": [
    {
     "name": "stdout",
     "output_type": "stream",
     "text": [
      "-153.24724\n"
     ]
    }
   ],
   "source": [
    "tf.reset_default_graph()\n",
    "\n",
    "x   = tf.get_variable('x', initializer=tf.random_normal([10, 10]))\n",
    "det = tf.matrix_determinant(x)\n",
    "with tf.Session() as sess:\n",
    "    sess.run(tf.global_variables_initializer())\n",
    "    print(det.eval())"
   ]
  },
  {
   "cell_type": "markdown",
   "metadata": {},
   "source": [
    "1g: Create tensor x with value [5, 2, 3, 5, 10, 6, 2, 3, 4, 2, 1, 1, 0, 9].\n",
    "Return the unique elements in x\n",
    "Hint: use tf.unique(). Keep in mind that tf.unique() returns a tuple."
   ]
  },
  {
   "cell_type": "code",
   "execution_count": 50,
   "metadata": {},
   "outputs": [
    {
     "name": "stdout",
     "output_type": "stream",
     "text": [
      "[ 5  2  3 10  6  4  1  0  9]\n"
     ]
    }
   ],
   "source": [
    "tf.reset_default_graph()\n",
    "\n",
    "values = [5, 2, 3, 5, 10, 6, 2, 3, 4, 2, 1, 1, 0, 9]\n",
    "\n",
    "x      = tf.get_variable('x', initializer=tf.constant(values))\n",
    "u, idx = tf.unique(x)\n",
    "\n",
    "with tf.Session() as sess:\n",
    "    sess.run(tf.global_variables_initializer())\n",
    "    print(u.eval())\n",
    "    "
   ]
  },
  {
   "cell_type": "markdown",
   "metadata": {},
   "source": [
    "1h: Create two tensors x and y of shape 300 from any normal distribution,\n",
    "as long as they are from the same distribution.\n",
    "Use tf.cond() to return:\n",
    "- The mean squared error of (x - y) if the average of all elements in (x - y)\n",
    "  is negative, or\n",
    "- The sum of absolute value of all elements in the tensor (x - y) otherwise.\n",
    "Hint: see the Huber loss function in the lecture slides 3."
   ]
  },
  {
   "cell_type": "code",
   "execution_count": 57,
   "metadata": {},
   "outputs": [
    {
     "name": "stdout",
     "output_type": "stream",
     "text": [
      "1.9868385\n"
     ]
    }
   ],
   "source": [
    "tf.reset_default_graph()\n",
    "\n",
    "x = tf.get_variable('x', shape=300, initializer=tf.random_normal_initializer)\n",
    "y = tf.get_variable('y', shape=300, initializer=tf.random_normal_initializer)\n",
    "\n",
    "out = tf.cond(tf.reduce_mean(x - y) < 0, lambda: tf.losses.mean_squared_error(y, x), lambda: tf.reduce_sum(tf.abs(x-y)))\n",
    "\n",
    "with tf.Session() as sess:\n",
    "    sess.run(tf.global_variables_initializer())\n",
    "    print(out.eval())"
   ]
  }
 ],
 "metadata": {
  "kernelspec": {
   "display_name": "Python 3",
   "language": "python",
   "name": "python3"
  },
  "language_info": {
   "codemirror_mode": {
    "name": "ipython",
    "version": 3
   },
   "file_extension": ".py",
   "mimetype": "text/x-python",
   "name": "python",
   "nbconvert_exporter": "python",
   "pygments_lexer": "ipython3",
   "version": "3.6.3"
  }
 },
 "nbformat": 4,
 "nbformat_minor": 1
}
