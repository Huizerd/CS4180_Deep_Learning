{
 "cells": [
  {
   "cell_type": "code",
   "execution_count": null,
   "metadata": {
    "collapsed": true
   },
   "outputs": [],
   "source": [
    "import os\n",
    "os.environ['TF_CPP_MIN_LOG_LEVEL']='2' # no warning\n",
    "import tensorflow as tf"
   ]
  },
  {
   "cell_type": "markdown",
   "metadata": {},
   "source": [
    "Create two random 0-d tensors x and y of any distribution. The output should be the sum. We do the first two problem for you:"
   ]
  },
  {
   "cell_type": "code",
   "execution_count": null,
   "metadata": {},
   "outputs": [],
   "source": [
    "sess = tf.InteractiveSession()\n",
    "x = tf.random_uniform([])  # Empty array as shape creates a scalar.\n",
    "y = tf.random_uniform([])\n",
    "out = tf.add(x,y)\n",
    "#print(x.eval())\n",
    "#print(y.eval())\n",
    "print(out.eval())"
   ]
  },
  {
   "cell_type": "markdown",
   "metadata": {},
   "source": [
    "Now try to look at variable x and y. What do you notice?\n",
    "\n",
    "\n",
    "You can see that they do not \n",
    "give the result of your calculation. The reason is that:\n",
    "TensorFlow has several ops that create random tensors with different distributions.\n",
    "The random ops are stateful, and create new random values each time they are evaluated.\n",
    "To fix this we can use tf.Variables or you can run x,y and out in the same time, see the example below."
   ]
  },
  {
   "cell_type": "code",
   "execution_count": null,
   "metadata": {},
   "outputs": [],
   "source": [
    "x = tf.Variable(tf.random_uniform([]))  # Empty array as shape creates a scalar.\n",
    "y = tf.Variable(tf.random_uniform([]))\n",
    "init_op = tf.global_variables_initializer() # Init function\n",
    "out = tf.add(x,y)\n",
    "sess.run(init_op) # first init vars\n",
    "print(x.eval())\n",
    "print(y.eval())\n",
    "print(out.eval())"
   ]
  },
  {
   "cell_type": "markdown",
   "metadata": {},
   "source": [
    "Observe that now the calculation is correct. You can also use a normal session if you prefer, see below"
   ]
  },
  {
   "cell_type": "code",
   "execution_count": null,
   "metadata": {},
   "outputs": [],
   "source": [
    "with tf.Session() as sess:\n",
    "\n",
    "    x = tf.random_uniform([])  # Empty array as shape creates a scalar.\n",
    "    y = tf.random_uniform([])\n",
    "    out = tf.add(x, y)\n",
    "    x_out, y_out, out_out = sess.run([x,y,out])\n",
    "    print(x_out)\n",
    "    print(y_out)\n",
    "    print(out_out)"
   ]
  },
  {
   "cell_type": "markdown",
   "metadata": {
    "collapsed": true
   },
   "source": [
    "1a: Create two random 0-d tensors x and y of any distribution.\n",
    "Create a TensorFlow object that returns x + y if x > y, and x - y otherwise.\n",
    "Hint: look up tf.cond()\n",
    "We also show you how to do this one:"
   ]
  },
  {
   "cell_type": "code",
   "execution_count": null,
   "metadata": {},
   "outputs": [],
   "source": [
    "sess1 = tf.InteractiveSession()\n",
    "x = tf.Variable(tf.random_uniform([]))  # Empty array as shape creates a scalar.\n",
    "y = tf.Variable(tf.random_uniform([]))\n",
    "init_op = tf.global_variables_initializer()\n",
    "out = tf.cond(tf.greater(x, y), lambda: tf.add(x, y), lambda: tf.subtract(x, y))\n",
    "sess1.run(init_op)\n",
    "print(x.eval())\n",
    "print(y.eval())\n",
    "print(out.eval())\n",
    "sess1.close()"
   ]
  },
  {
   "cell_type": "markdown",
   "metadata": {},
   "source": [
    "1b: Create two 0-d tensors x and y randomly selected from the range [-1, 1).\n",
    "Return x + y if x < y, x - y if x > y, 0 otherwise.\n",
    "Hint: Look up tf.case()."
   ]
  },
  {
   "cell_type": "code",
   "execution_count": null,
   "metadata": {},
   "outputs": [],
   "source": [
    "# YOUR CODE HERE"
   ]
  },
  {
   "cell_type": "markdown",
   "metadata": {},
   "source": [
    "1c: Create the tensor x of the value [[0, -2, -1], [0, 1, 2]] \n",
    "and y as a tensor of zeros with the same shape as x.\n",
    "Return a boolean tensor that yields Trues if x equals y element-wise.\n",
    "Hint: Look up tf.equal()."
   ]
  },
  {
   "cell_type": "code",
   "execution_count": null,
   "metadata": {
    "collapsed": true
   },
   "outputs": [],
   "source": [
    "# YOUR CODE HERE"
   ]
  },
  {
   "cell_type": "markdown",
   "metadata": {
    "collapsed": true
   },
   "source": [
    "1d: Use the tensor x given below.\n",
    "Get the indices of elements in x whose values are greater than 30.\n",
    "Hint: Use tf.where().\n",
    "Then extract elements whose values are greater than 30.\n",
    "Hint: Use tf.gather()."
   ]
  },
  {
   "cell_type": "code",
   "execution_count": null,
   "metadata": {
    "collapsed": true
   },
   "outputs": [],
   "source": [
    "x = tf.constant([29.05088806,  27.61298943,  31.19073486,  29.35532951,\n",
    "\t\t        30.97266006,  26.67541885,  38.08450317,  20.74983215,\n",
    "\t\t        34.94445419,  34.45999146,  29.06485367,  36.01657104,\n",
    "\t\t        27.88236427,  20.56035233,  30.20379066,  29.51215172,\n",
    "\t\t        33.71149445,  28.59134293,  36.05556488,  28.66994858])\n",
    "# YOUR CODE HERE"
   ]
  },
  {
   "cell_type": "markdown",
   "metadata": {},
   "source": [
    "1e: Create a diagnoal 2-d tensor of size 6 x 6 with the diagonal values of 1,\n",
    "2, ..., 6\n",
    "Hint: Use tf.range() and tf.diag()."
   ]
  },
  {
   "cell_type": "code",
   "execution_count": null,
   "metadata": {
    "collapsed": true
   },
   "outputs": [],
   "source": [
    "# YOUR CODE HERE"
   ]
  },
  {
   "cell_type": "markdown",
   "metadata": {},
   "source": [
    "1f: Create a random 2-d tensor of size 10 x 10 from any distribution.\n",
    "Calculate its determinant.\n",
    "Hint: Look at tf.matrix_determinant()."
   ]
  },
  {
   "cell_type": "code",
   "execution_count": null,
   "metadata": {
    "collapsed": true
   },
   "outputs": [],
   "source": [
    "# YOUR CODE HERE"
   ]
  },
  {
   "cell_type": "markdown",
   "metadata": {},
   "source": [
    "1g: Create tensor x with value [5, 2, 3, 5, 10, 6, 2, 3, 4, 2, 1, 1, 0, 9].\n",
    "Return the unique elements in x\n",
    "Hint: use tf.unique(). Keep in mind that tf.unique() returns a tuple."
   ]
  },
  {
   "cell_type": "code",
   "execution_count": null,
   "metadata": {
    "collapsed": true
   },
   "outputs": [],
   "source": [
    "# YOUR CODE"
   ]
  },
  {
   "cell_type": "markdown",
   "metadata": {},
   "source": [
    "1h: Create two tensors x and y of shape 300 from any normal distribution,\n",
    "as long as they are from the same distribution.\n",
    "Use tf.cond() to return:\n",
    "- The mean squared error of (x - y) if the average of all elements in (x - y)\n",
    "  is negative, or\n",
    "- The sum of absolute value of all elements in the tensor (x - y) otherwise.\n",
    "Hint: see the Huber loss function in the lecture slides 3."
   ]
  },
  {
   "cell_type": "code",
   "execution_count": null,
   "metadata": {
    "collapsed": true
   },
   "outputs": [],
   "source": [
    "# YOUR CODE"
   ]
  }
 ],
 "metadata": {
  "kernelspec": {
   "display_name": "Python 3",
   "language": "python",
   "name": "python3"
  },
  "language_info": {
   "codemirror_mode": {
    "name": "ipython",
    "version": 3
   },
   "file_extension": ".py",
   "mimetype": "text/x-python",
   "name": "python",
   "nbconvert_exporter": "python",
   "pygments_lexer": "ipython3",
   "version": "3.5.2"
  }
 },
 "nbformat": 4,
 "nbformat_minor": 1
}
