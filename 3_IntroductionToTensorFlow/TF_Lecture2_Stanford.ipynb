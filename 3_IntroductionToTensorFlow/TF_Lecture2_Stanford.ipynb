{
 "cells": [
  {
   "cell_type": "markdown",
   "metadata": {},
   "source": [
    "# TensorFlow Lecture 2"
   ]
  },
  {
   "cell_type": "markdown",
   "metadata": {},
   "source": [
    "Based on https://docs.google.com/presentation/d/1iO_bBL_5REuDQ7RJ2F35vH2BxAiGMocLC6t_N-6eXaE/edit#slide=id.g1bd10f151e_0_0"
   ]
  },
  {
   "cell_type": "markdown",
   "metadata": {},
   "source": [
    "### TensorBoard"
   ]
  },
  {
   "cell_type": "markdown",
   "metadata": {},
   "source": [
    "#### Your first TensorFlow program"
   ]
  },
  {
   "cell_type": "code",
   "execution_count": 1,
   "metadata": {},
   "outputs": [
    {
     "name": "stdout",
     "output_type": "stream",
     "text": [
      "5\n"
     ]
    }
   ],
   "source": [
    "import tensorflow as tf\n",
    "\n",
    "a = tf.constant(2)\n",
    "b = tf.constant(3)\n",
    "x = tf.add(a, b)\n",
    "\n",
    "with tf.Session() as sess:\n",
    "    print(sess.run(x))"
   ]
  },
  {
   "cell_type": "markdown",
   "metadata": {},
   "source": [
    "#### Visualize it with TensorBoard"
   ]
  },
  {
   "cell_type": "code",
   "execution_count": 2,
   "metadata": {},
   "outputs": [
    {
     "name": "stdout",
     "output_type": "stream",
     "text": [
      "5\n"
     ]
    }
   ],
   "source": [
    "# Either here\n",
    "writer = tf.summary.FileWriter('./graphs', tf.get_default_graph())\n",
    "\n",
    "with tf.Session() as sess:\n",
    "    # Or here!\n",
    "    # writer = tf.summary.FileWriter('./graphs', sess.graph)\n",
    "    print(sess.run(x))\n",
    "    \n",
    "writer.close() # close the writer when you're done with it"
   ]
  },
  {
   "cell_type": "markdown",
   "metadata": {},
   "source": [
    "Note that you create the summary **after** graph definition and **before** running your session. `./graphs` indicates where you want to save your graph"
   ]
  },
  {
   "cell_type": "markdown",
   "metadata": {},
   "source": [
    "#### Run it"
   ]
  },
  {
   "cell_type": "markdown",
   "metadata": {},
   "source": [
    "Go to your terminal and run the following code:\n",
    "```shell\n",
    "python3 [yourprogram].py # or this notebook\n",
    "tensorboard --logdir=\"./graphs\" --port 6006\n",
    "```\n",
    "Then open your browser and go to: http://localhost:6006/.\n"
   ]
  },
  {
   "cell_type": "markdown",
   "metadata": {},
   "source": [
    "#### Explicitly naming variables and operations"
   ]
  },
  {
   "cell_type": "code",
   "execution_count": 3,
   "metadata": {},
   "outputs": [
    {
     "name": "stdout",
     "output_type": "stream",
     "text": [
      "5\n"
     ]
    }
   ],
   "source": [
    "a = tf.constant(2, name='a')\n",
    "b = tf.constant(3, name='b')\n",
    "x = tf.add(a, b, name='add')\n",
    "\n",
    "with tf.Session() as sess:\n",
    "    writer = tf.summary.FileWriter('./graphs', sess.graph)\n",
    "    print(sess.run(x))\n",
    "    \n",
    "writer.close()"
   ]
  },
  {
   "cell_type": "markdown",
   "metadata": {},
   "source": [
    "### Constants, Sequences, Variables, Ops"
   ]
  },
  {
   "cell_type": "markdown",
   "metadata": {},
   "source": [
    "#### Constants"
   ]
  },
  {
   "cell_type": "code",
   "execution_count": 4,
   "metadata": {},
   "outputs": [],
   "source": [
    "a = tf.constant([2, 2], name='a')\n",
    "b = tf.constant([[0, 1], [2, 3]], name='b')"
   ]
  },
  {
   "cell_type": "markdown",
   "metadata": {},
   "source": [
    "Now do some broadcasting (similar to NumPy):"
   ]
  },
  {
   "cell_type": "code",
   "execution_count": 5,
   "metadata": {},
   "outputs": [
    {
     "name": "stdout",
     "output_type": "stream",
     "text": [
      "[[0 2]\n",
      " [4 6]]\n"
     ]
    }
   ],
   "source": [
    "x = tf.multiply(a, b, name='mul')\n",
    "\n",
    "with tf.Session() as sess:\n",
    "    print(sess.run(x))"
   ]
  },
  {
   "cell_type": "markdown",
   "metadata": {},
   "source": [
    "#### Tensors filled with a specific value"
   ]
  },
  {
   "cell_type": "markdown",
   "metadata": {},
   "source": [
    "Definition to create a tensor of shape `shape` and all elements zero:\n",
    "```python\n",
    "tf.zeros(shape, dtype=tf.float32, name=None)\n",
    "```\n",
    "Note: similar to `numpy.zeros()`!"
   ]
  },
  {
   "cell_type": "markdown",
   "metadata": {},
   "source": [
    "Definition to create a tensor of same `shape` and `type` as `input_tensor`:\n",
    "```python\n",
    "tf.zeros_like(input_tensor, dtype=None, name=None, optimize=True)\n",
    "```\n",
    "Note: similar to `numpy.zeros_like()`!"
   ]
  },
  {
   "cell_type": "markdown",
   "metadata": {},
   "source": [
    "Same can be done to get tensors filled with ones (`tf.ones()` and `tf.ones_like()`)."
   ]
  },
  {
   "cell_type": "markdown",
   "metadata": {},
   "source": [
    "To create a tensor filled with any scalar value:\n",
    "```python\n",
    "tf.fill(dims, value, name=None)\n",
    "```\n",
    "\n",
    "where `dims = [2, 3]` for example. Similar to `numpy.full()`.\n"
   ]
  },
  {
   "cell_type": "markdown",
   "metadata": {},
   "source": [
    "#### Constants as sequences"
   ]
  },
  {
   "cell_type": "markdown",
   "metadata": {},
   "source": [
    "```python\n",
    "tf.lin_space(start, stop, num, name=None)\n",
    "\n",
    "tf.range(start, limit=None, delta=1, dtype=None, name='range')\n",
    "```\n",
    "where, if `limit` is not specified, `start` is actually `stop`. Note that these are not the same as NumPy sequences, since they are not iterable!"
   ]
  },
  {
   "cell_type": "markdown",
   "metadata": {},
   "source": [
    "#### Randomly generated constants"
   ]
  },
  {
   "cell_type": "markdown",
   "metadata": {},
   "source": [
    "```python\n",
    "tf.random_normal()\n",
    "tf.truncated_normal()\n",
    "tf.random_uniform()\n",
    "tf.random_shuffle()\n",
    "tf.random_crop()\n",
    "tf.multinomial()\n",
    "tf.random_gamma()\n",
    "```\n",
    "Often, `tf.truncated_normal()` is used instead of `tf.random_normal()`, since it doesn't create any values more than two standard deviations away from its mean."
   ]
  },
  {
   "cell_type": "markdown",
   "metadata": {},
   "source": [
    "To set the seed:\n",
    "```python\n",
    "tf.set_random_seed(seed)\n",
    "```"
   ]
  },
  {
   "cell_type": "markdown",
   "metadata": {},
   "source": [
    "#### Wizard of div"
   ]
  },
  {
   "cell_type": "code",
   "execution_count": 6,
   "metadata": {},
   "outputs": [
    {
     "name": "stdout",
     "output_type": "stream",
     "text": [
      "[[0 0]\n",
      " [1 1]]\n",
      "[[0.  0.5]\n",
      " [1.  1.5]]\n",
      "[[0.  0.5]\n",
      " [1.  1.5]]\n",
      "[[0 0]\n",
      " [1 1]]\n",
      "[[0 0]\n",
      " [1 1]]\n",
      "[[0 0]\n",
      " [1 1]]\n"
     ]
    }
   ],
   "source": [
    "a = tf.constant([2, 2], name='a')\n",
    "b = tf.constant([[0, 1], [2, 3]], name='b')\n",
    "\n",
    "with tf.Session() as sess:\n",
    "    print(sess.run(tf.div(b, a)))\n",
    "    print(sess.run(tf.divide(b, a)))\n",
    "    print(sess.run(tf.truediv(b, a)))\n",
    "    print(sess.run(tf.floordiv(b, a)))\n",
    "    # print(sess.run(tf.realdiv(b, a))) --> error, only for real values\n",
    "    print(sess.run(tf.truncatediv(b, a)))\n",
    "    print(sess.run(tf.floor_div(b, a)))"
   ]
  },
  {
   "cell_type": "markdown",
   "metadata": {},
   "source": [
    "`tf.div()` does TensorFlow-style division, while `tf.divide()` does Python-style division."
   ]
  },
  {
   "cell_type": "markdown",
   "metadata": {},
   "source": [
    "#### TensorFlow data types"
   ]
  },
  {
   "cell_type": "markdown",
   "metadata": {},
   "source": [
    "- Scalars are treated like 0-d tensors\n",
    "- 1-d arrays/lists are treated like 1-d tensors"
   ]
  },
  {
   "cell_type": "code",
   "execution_count": 7,
   "metadata": {},
   "outputs": [
    {
     "name": "stdout",
     "output_type": "stream",
     "text": [
      "[1, array([b'', b'', b''], dtype=object)]\n"
     ]
    }
   ],
   "source": [
    "t_0 = 19\n",
    "t_1 = [b\"apple\", b\"peach\", b\"grape\"] # byte literal string\n",
    "\n",
    "with tf.Session() as sess:\n",
    "    print(sess.run([tf.ones_like(t_0), tf.zeros_like(t_1)]))"
   ]
  },
  {
   "cell_type": "markdown",
   "metadata": {},
   "source": [
    "Note that using `tf.ones_like(t_1)` will give an error!"
   ]
  },
  {
   "cell_type": "code",
   "execution_count": 8,
   "metadata": {
    "scrolled": true
   },
   "outputs": [
    {
     "name": "stdout",
     "output_type": "stream",
     "text": [
      "[array([[False, False, False],\n",
      "       [False, False, False],\n",
      "       [False, False, False]]), array([[ True,  True,  True],\n",
      "       [ True,  True,  True],\n",
      "       [ True,  True,  True]])]\n"
     ]
    }
   ],
   "source": [
    "t_2 = [[True, False, False],\n",
    "       [False, False, True],\n",
    "       [False, True, False]]\n",
    "\n",
    "with tf.Session() as sess:\n",
    "    print(sess.run([tf.zeros_like(t_2), tf.ones_like(t_2)]))"
   ]
  },
  {
   "cell_type": "markdown",
   "metadata": {},
   "source": [
    "#### TensorFlow vs NumPy data types"
   ]
  },
  {
   "cell_type": "code",
   "execution_count": 9,
   "metadata": {},
   "outputs": [
    {
     "name": "stdout",
     "output_type": "stream",
     "text": [
      "True\n",
      "[[1. 1.]\n",
      " [1. 1.]] <class 'numpy.ndarray'>\n"
     ]
    }
   ],
   "source": [
    "import numpy as np\n",
    "\n",
    "print(tf.int32 == np.int32)\n",
    "\n",
    "with tf.Session() as sess:\n",
    "    out = sess.run(tf.ones([2, 2], np.float32))\n",
    "    print(out, type(out))\n",
    "    "
   ]
  },
  {
   "cell_type": "markdown",
   "metadata": {},
   "source": [
    "#### Use TensorFlow data types when possible"
   ]
  },
  {
   "cell_type": "markdown",
   "metadata": {},
   "source": [
    "- Python native types: TensorFlow has to infer Python type\n",
    "- NumPy arrays: NumPy is not GPU compatible"
   ]
  },
  {
   "cell_type": "markdown",
   "metadata": {},
   "source": [
    "#### What's wrong with constants?"
   ]
  },
  {
   "cell_type": "markdown",
   "metadata": {},
   "source": [
    "- Constants are stored in the graph definition\n",
    "- This makes loading graphs expensive when constants are big\n",
    "- So: only use constants for primitive types (int, str, bool, etc.)\n",
    "- Use variables or readers for data that requires more memory"
   ]
  },
  {
   "cell_type": "markdown",
   "metadata": {},
   "source": [
    "#### Variables"
   ]
  },
  {
   "cell_type": "code",
   "execution_count": 10,
   "metadata": {},
   "outputs": [],
   "source": [
    "# Using tf.Variable\n",
    "s = tf.Variable(2, name='scalar')\n",
    "m = tf.Variable([[0, 1], [2, 3]], name='matrix')\n",
    "W = tf.Variable(tf.zeros([784, 10]), name='big_matrix')\n",
    "\n",
    "# Using tf.get_variable\n",
    "s = tf.get_variable('scalar', initializer=tf.constant(2))\n",
    "m = tf.get_variable('matrix', initializer=tf.constant([[0, 1], [2, 3]]))\n",
    "W = tf.get_variable('big_matrix', shape=(784, 10), initializer=tf.zeros_initializer())"
   ]
  },
  {
   "cell_type": "markdown",
   "metadata": {},
   "source": [
    "The second method (using `tf.get_variable()`) is preferred! Also, why is it `tf.constant`, but `tf.Variable` (capitalization)?\n",
    "- Because `tf.constant` is an operation, while `tf.Variable` is a class with many operations!"
   ]
  },
  {
   "cell_type": "markdown",
   "metadata": {},
   "source": [
    "#### The `tf.Variable` class"
   ]
  },
  {
   "cell_type": "markdown",
   "metadata": {},
   "source": [
    "Holds several operations:\n",
    "```python\n",
    "x = tf.Variable(...)\n",
    "\n",
    "x.initializer     # init\n",
    "x.value()         # read\n",
    "x.assign(...)     # write\n",
    "x.assign_add(...) # write more\n",
    "```\n",
    "\n",
    "As a shortcut, `.value()` can be omitted in many cases (so `tf.add(x, ...)` instead of `tf.add(x.value(), ...)`)."
   ]
  },
  {
   "cell_type": "markdown",
   "metadata": {},
   "source": [
    "#### Variables have to be initialized!"
   ]
  },
  {
   "cell_type": "markdown",
   "metadata": {},
   "source": [
    "Setting all variables at once:\n",
    "```python\n",
    "with tf.Session() as sess:\n",
    "    sess.run(tf.global_variables_initializer())\n",
    "```\n",
    "\n",
    "Only a subset:\n",
    "```python\n",
    "with tf.Session() as sess:\n",
    "    sess.run(tf.variables_initializer([a, b]))\n",
    "```\n",
    "\n",
    "A single variable:\n",
    "```python\n",
    "with tf.Session() as sess:\n",
    "    sess.run(W.initializer)\n",
    "```\n",
    "    "
   ]
  },
  {
   "cell_type": "markdown",
   "metadata": {},
   "source": [
    "#### `eval()` a variable"
   ]
  },
  {
   "cell_type": "code",
   "execution_count": 11,
   "metadata": {},
   "outputs": [
    {
     "name": "stdout",
     "output_type": "stream",
     "text": [
      "[[ 0.07434437  0.1895503   0.1977454  ...  1.0565029   0.70092756\n",
      "   0.4391014 ]\n",
      " [ 1.3243814   1.6971065   0.5907754  ...  1.452678    0.9111551\n",
      "   0.44799125]\n",
      " [ 0.12553921 -1.0417659   1.3597127  ... -0.52659094  0.25251952\n",
      "  -1.1134942 ]\n",
      " ...\n",
      " [-0.57436275  0.23359765  1.2301947  ...  0.64285225  1.0476731\n",
      "  -1.3841504 ]\n",
      " [-0.29556018  0.5024082   0.4279861  ... -1.0716723   1.0461595\n",
      "  -0.09679326]\n",
      " [-0.6385703   0.50875515  0.4570679  ... -0.8377286  -1.5864743\n",
      "   0.26414272]]\n"
     ]
    }
   ],
   "source": [
    "tf.reset_default_graph() # clears the default graph stack and resets the global default graph\n",
    "\n",
    "# W is a random 700 x 100 variable object\n",
    "W = tf.get_variable('W', initializer=tf.truncated_normal([700, 10]))\n",
    "\n",
    "with tf.Session() as sess:\n",
    "    sess.run(W.initializer)\n",
    "    print(W.eval()) # similar to print(sess.run(W))!"
   ]
  },
  {
   "cell_type": "markdown",
   "metadata": {},
   "source": [
    "#### `tf.Variable.assign()`"
   ]
  },
  {
   "cell_type": "code",
   "execution_count": 12,
   "metadata": {},
   "outputs": [
    {
     "name": "stdout",
     "output_type": "stream",
     "text": [
      "10\n"
     ]
    }
   ],
   "source": [
    "tf.reset_default_graph()\n",
    "\n",
    "W = tf.get_variable('W', initializer=tf.constant(10))\n",
    "\n",
    "W.assign(100)\n",
    "\n",
    "with tf.Session() as sess:\n",
    "    sess.run(W.initializer)\n",
    "    print(W.eval())"
   ]
  },
  {
   "cell_type": "markdown",
   "metadata": {},
   "source": [
    "Why `10`?\n",
    "- `W.assign(100)` creates an assign operation, and needs to be executed in a session to take effect!"
   ]
  },
  {
   "cell_type": "code",
   "execution_count": 13,
   "metadata": {},
   "outputs": [
    {
     "name": "stdout",
     "output_type": "stream",
     "text": [
      "100\n"
     ]
    }
   ],
   "source": [
    "assign_op = W.assign(100)\n",
    "\n",
    "with tf.Session() as sess:\n",
    "    sess.run(W.initializer)\n",
    "    sess.run(assign_op)\n",
    "    print(W.eval())"
   ]
  },
  {
   "cell_type": "markdown",
   "metadata": {},
   "source": [
    "Note: `W` doesn't actually have to be initialized, since `assign_op` does it for you! In fact, `W.initializer` is the assign operation that assigns the initial value of `W` to `W`!"
   ]
  },
  {
   "cell_type": "code",
   "execution_count": 14,
   "metadata": {},
   "outputs": [
    {
     "name": "stdout",
     "output_type": "stream",
     "text": [
      "4\n",
      "8\n"
     ]
    }
   ],
   "source": [
    "tf.reset_default_graph()\n",
    "\n",
    "# Create a variable whose original value is 2\n",
    "a = tf.get_variable('a', initializer=tf.constant(2))\n",
    "\n",
    "# Assign a * 2 to a\n",
    "a_times2 = a.assign(2 * a)\n",
    "\n",
    "with tf.Session() as sess:\n",
    "    sess.run(a.initializer)\n",
    "    sess.run(a_times2)\n",
    "    print(a.eval())\n",
    "    sess.run(a_times2)\n",
    "    print(a.eval())"
   ]
  },
  {
   "cell_type": "markdown",
   "metadata": {},
   "source": [
    "Every time `a_times2` is executed, it assigns `2 * a` to `a`, resulting in `a` increasing from `4` to `8`."
   ]
  },
  {
   "cell_type": "markdown",
   "metadata": {},
   "source": [
    "#### `assign_add()` and `assign_sub()`"
   ]
  },
  {
   "cell_type": "code",
   "execution_count": 15,
   "metadata": {},
   "outputs": [
    {
     "name": "stdout",
     "output_type": "stream",
     "text": [
      "18\n"
     ]
    }
   ],
   "source": [
    "tf.reset_default_graph()\n",
    "\n",
    "a = tf.get_variable('a', initializer=tf.constant(10))\n",
    "\n",
    "with tf.Session() as sess:\n",
    "    sess.run(a.initializer)\n",
    "    \n",
    "    # Increment by 10\n",
    "    sess.run(a.assign_add(10))\n",
    "    \n",
    "    # Decrement by 2\n",
    "    sess.run(a.assign_sub(2))\n",
    "    \n",
    "    print(a.eval())"
   ]
  },
  {
   "cell_type": "markdown",
   "metadata": {},
   "source": [
    "Note that `a.initializer` is being ran, since `assign_add()` and `assign_sub()` can't initialize the variable `a` for you, because these operations need the original value of `a`!"
   ]
  },
  {
   "cell_type": "markdown",
   "metadata": {},
   "source": [
    "#### Each session maintains its own copy of variables"
   ]
  },
  {
   "cell_type": "code",
   "execution_count": 17,
   "metadata": {},
   "outputs": [
    {
     "name": "stdout",
     "output_type": "stream",
     "text": [
      "20\n",
      "8\n"
     ]
    }
   ],
   "source": [
    "tf.reset_default_graph()\n",
    "\n",
    "W = tf.get_variable('W', initializer=tf.constant(10))\n",
    "\n",
    "sess1 = tf.Session()\n",
    "sess2 = tf.Session()\n",
    "\n",
    "sess1.run(W.initializer)\n",
    "sess2.run(W.initializer)\n",
    "\n",
    "print(sess1.run(W.assign_add(10)))\n",
    "print(sess2.run(W.assign_sub(2)))\n",
    "\n",
    "sess1.close()\n",
    "sess2.close()"
   ]
  },
  {
   "cell_type": "markdown",
   "metadata": {},
   "source": [
    "#### Control dependencies"
   ]
  },
  {
   "cell_type": "markdown",
   "metadata": {},
   "source": [
    "`tf.Graph.control_dependencies(control_inputs)` defines which operations should be run first. So, for example:\n",
    "```python\n",
    "# Your graph g has 5 ops: a, b, c, d, e\n",
    "g = tf.get_default_graph()\n",
    "\n",
    "with g.control_dependencies([a, b, c]):\n",
    "    \n",
    "    # d and e will only run after a, b and c have been executed!\n",
    "    d = ...\n",
    "    e = ...\n",
    "```"
   ]
  },
  {
   "cell_type": "markdown",
   "metadata": {},
   "source": [
    "### Placeholders"
   ]
  },
  {
   "cell_type": "markdown",
   "metadata": {},
   "source": [
    "#### Quick reminder"
   ]
  },
  {
   "cell_type": "markdown",
   "metadata": {},
   "source": [
    "A TensorFlow program often has 2 phases:\n",
    "1. Assemble a graph\n",
    "2. Use a session to execute operations in the graph\n",
    "\n",
    "So: assemble the graph first without knowing the values needed for computation. Or, in other words: define the function `f(x,y) = 2 * x + y` without knowing the value of `x` and `y`: they are **placeholders** for the actual values!"
   ]
  },
  {
   "cell_type": "markdown",
   "metadata": {},
   "source": [
    "#### Why placeholders?"
   ]
  },
  {
   "cell_type": "markdown",
   "metadata": {},
   "source": [
    "We/our clients can later supply their own data when they need to execute the computation."
   ]
  },
  {
   "cell_type": "markdown",
   "metadata": {},
   "source": [
    "#### Placeholders"
   ]
  },
  {
   "cell_type": "markdown",
   "metadata": {},
   "source": [
    "`tf.placeholder(dtype, shape=None, name=None)`"
   ]
  },
  {
   "cell_type": "code",
   "execution_count": 24,
   "metadata": {},
   "outputs": [],
   "source": [
    "tf.reset_default_graph()\n",
    "\n",
    "# Create a placeholder for a vector of 3 elements, type tf.float32\n",
    "a = tf.placeholder(tf.float32, shape=[3])  # difference with shape=3?\n",
    "\n",
    "b = tf.constant([5, 5, 5], tf.float32)\n",
    "\n",
    "# Use this placeholder as you would a constant or a variable\n",
    "c = a + b  # short for tf.add(a, b)\n",
    "\n",
    "# with tf.Session() as sess:\n",
    "#     print(sess.run(c))  # --> results in error!"
   ]
  },
  {
   "cell_type": "markdown",
   "metadata": {},
   "source": [
    "#### Supplement the values to placeholders using a dictionary"
   ]
  },
  {
   "cell_type": "code",
   "execution_count": 25,
   "metadata": {},
   "outputs": [
    {
     "name": "stdout",
     "output_type": "stream",
     "text": [
      "[6. 7. 8.]\n"
     ]
    }
   ],
   "source": [
    "with tf.Session() as sess:\n",
    "    print(sess.run(c, feed_dict={a: [1, 2, 3]}))  # a is the key (not string a)"
   ]
  },
  {
   "cell_type": "markdown",
   "metadata": {},
   "source": [
    "Note: `shape=None` means that tensor of any shape will be accepted as value for placeholder. Easy to construct graphs, but nightmare for debugging! Also, it breaks all following shape inference, which makes many operations not work because they expect a certain rank."
   ]
  },
  {
   "cell_type": "markdown",
   "metadata": {},
   "source": [
    "#### Placeholders are valid ops"
   ]
  },
  {
   "cell_type": "code",
   "execution_count": 27,
   "metadata": {},
   "outputs": [
    {
     "name": "stdout",
     "output_type": "stream",
     "text": [
      "[6. 7. 8.]\n"
     ]
    }
   ],
   "source": [
    "with tf.Session() as sess:\n",
    "    print(sess.run(c, {a: [1, 2, 3]}))  # also works"
   ]
  },
  {
   "cell_type": "markdown",
   "metadata": {},
   "source": [
    "#### What if I want to feed multiple data points in?"
   ]
  },
  {
   "cell_type": "markdown",
   "metadata": {},
   "source": [
    "One at a time:\n",
    "```python\n",
    "with tf.Session() as sess:\n",
    "    for a_value in list_of_values_for_a:\n",
    "        print(sess.run(c, {a: a_value}))\n",
    "```\n",
    "\n",
    "You can actually `feed_dict` any feedable tensor. A placeholder is just a way to indicate that something must be fed. Check if feedable by using `tf.Graph.is_feedable(tensor)`, which gives back `True` if and only if the tensor is feedable."
   ]
  },
  {
   "cell_type": "markdown",
   "metadata": {},
   "source": [
    "#### Feeding values to TF ops"
   ]
  },
  {
   "cell_type": "code",
   "execution_count": 30,
   "metadata": {},
   "outputs": [
    {
     "name": "stdout",
     "output_type": "stream",
     "text": [
      "45\n"
     ]
    }
   ],
   "source": [
    "tf.reset_default_graph()\n",
    "\n",
    "# Create operations, tensors, etc (using the default graph)\n",
    "a = tf.add(2, 5)\n",
    "b = tf.multiply(a, 3)\n",
    "\n",
    "with tf.Session() as sess:\n",
    "    \n",
    "    # Compute the value of b given a is 15\n",
    "    print(sess.run(b, feed_dict={a: 15}))"
   ]
  },
  {
   "cell_type": "markdown",
   "metadata": {},
   "source": [
    "This is extremely helpful for testing: feeding dummy values to test parts of a large graph!"
   ]
  },
  {
   "cell_type": "markdown",
   "metadata": {},
   "source": [
    "### Lazy Loading"
   ]
  },
  {
   "cell_type": "markdown",
   "metadata": {},
   "source": [
    "#### What is lazy loading?"
   ]
  },
  {
   "cell_type": "markdown",
   "metadata": {},
   "source": [
    "Defer creating/initializing an object until it is needed."
   ]
  },
  {
   "cell_type": "markdown",
   "metadata": {},
   "source": [
    "#### Lazy loading vs normal loading"
   ]
  },
  {
   "cell_type": "code",
   "execution_count": 38,
   "metadata": {},
   "outputs": [
    {
     "name": "stdout",
     "output_type": "stream",
     "text": [
      "30\n",
      "30\n",
      "30\n",
      "30\n",
      "30\n",
      "30\n",
      "30\n",
      "30\n",
      "30\n",
      "30\n"
     ]
    }
   ],
   "source": [
    "# Normal loading\n",
    "\n",
    "tf.reset_default_graph()\n",
    "\n",
    "x = tf.get_variable('x', initializer=tf.constant(10))\n",
    "y = tf.get_variable('y', initializer=tf.constant(20))\n",
    "z = tf.add(x, y)\n",
    "\n",
    "writer = tf.summary.FileWriter('./graphs/normal_loading', tf.get_default_graph())\n",
    "\n",
    "with tf.Session() as sess:\n",
    "    \n",
    "    sess.run(tf.global_variables_initializer())\n",
    "    \n",
    "    for _ in range(10):\n",
    "        print(sess.run(z))\n",
    "        \n",
    "writer.close()"
   ]
  },
  {
   "cell_type": "code",
   "execution_count": 39,
   "metadata": {},
   "outputs": [
    {
     "name": "stdout",
     "output_type": "stream",
     "text": [
      "30\n",
      "30\n",
      "30\n",
      "30\n",
      "30\n",
      "30\n",
      "30\n",
      "30\n",
      "30\n",
      "30\n"
     ]
    }
   ],
   "source": [
    "# Lazy loading\n",
    "\n",
    "tf.reset_default_graph()\n",
    "\n",
    "x = tf.get_variable('x', initializer=tf.constant(10))\n",
    "y = tf.get_variable('y', initializer=tf.constant(20))\n",
    "\n",
    "writer = tf.summary.FileWriter('./graphs/lazy_loading', tf.get_default_graph())\n",
    "\n",
    "with tf.Session() as sess:\n",
    "    \n",
    "    sess.run(tf.global_variables_initializer())\n",
    "    \n",
    "    for _ in range(10):\n",
    "        print(sess.run(tf.add(x, y)))  # someone decides to be clever to save one line of code\n",
    "        \n",
    "writer.close()"
   ]
  },
  {
   "cell_type": "markdown",
   "metadata": {},
   "source": [
    "Both give the same value of `z`, so what's the problem?\n",
    "- Look at TensorBoard\n",
    "- For normal loading, `add` is added once to the graph definition\n",
    "- For lazy loading, `add` is added 10 times (or as many times you're computing `z`) to the graph definition\n",
    "- This costs: bloated graph, slow to load, expensive to pass around!\n",
    "- One of the most common TensorFlow non-bug bugs on GitHub"
   ]
  },
  {
   "cell_type": "markdown",
   "metadata": {},
   "source": [
    "#### Solution"
   ]
  },
  {
   "cell_type": "markdown",
   "metadata": {},
   "source": [
    "1. Separate definition of operations from computing/running operations\n",
    "2. Use Python `@property` to ensure function is also loaded once the first time it is called (https://danijar.com/structuring-your-tensorflow-models/)"
   ]
  },
  {
   "cell_type": "markdown",
   "metadata": {},
   "source": [
    "### Exercise 3.3"
   ]
  },
  {
   "cell_type": "markdown",
   "metadata": {},
   "source": [
    "**(a)** Done"
   ]
  },
  {
   "cell_type": "markdown",
   "metadata": {},
   "source": [
    "**(b)** Done"
   ]
  },
  {
   "cell_type": "markdown",
   "metadata": {},
   "source": [
    "**(c)** Done"
   ]
  },
  {
   "cell_type": "markdown",
   "metadata": {},
   "source": [
    "**(d)** Done"
   ]
  },
  {
   "cell_type": "markdown",
   "metadata": {},
   "source": [
    "**(e)** Done"
   ]
  },
  {
   "cell_type": "markdown",
   "metadata": {},
   "source": [
    "**(f)** Constants are stored in the graph definition, which makes graph loading expensive when constants are big. So, use constants only for primitive types, and use variables and readers for data that requires more memory!"
   ]
  },
  {
   "cell_type": "markdown",
   "metadata": {},
   "source": [
    "**(g)** Done"
   ]
  },
  {
   "cell_type": "markdown",
   "metadata": {},
   "source": [
    "**(h)** Using a placeholder. You can then later feed the values using a dictionary."
   ]
  },
  {
   "cell_type": "markdown",
   "metadata": {},
   "source": [
    "**(i)** Lazy loading adds operations to the graph every time a value is computed, which makes the graph large, slow to load and expensive to move around! So: separate definition of operations from computing/running them, and use the Python `@property` to ensure functions are only loaded once (see link above)."
   ]
  }
 ],
 "metadata": {
  "kernelspec": {
   "display_name": "Python 3",
   "language": "python",
   "name": "python3"
  },
  "language_info": {
   "codemirror_mode": {
    "name": "ipython",
    "version": 3
   },
   "file_extension": ".py",
   "mimetype": "text/x-python",
   "name": "python",
   "nbconvert_exporter": "python",
   "pygments_lexer": "ipython3",
   "version": "3.6.3"
  }
 },
 "nbformat": 4,
 "nbformat_minor": 2
}
