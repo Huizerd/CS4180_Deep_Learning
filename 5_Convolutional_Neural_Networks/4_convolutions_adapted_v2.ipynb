{
 "cells": [
  {
   "cell_type": "markdown",
   "metadata": {
    "colab_type": "text",
    "id": "4embtkV0pNxM"
   },
   "source": [
    "Deep Learning\n",
    "=============\n",
    "\n",
    "Assignment 4\n",
    "------------\n",
    "\n",
    "Previously in `2_fullyconnected.ipynb` and `3_regularization.ipynb`, we trained fully connected networks to classify [notMNIST](http://yaroslavvb.blogspot.com/2011/09/notmnist-dataset.html) characters.\n",
    "\n",
    "The goal of this assignment is make the neural network convolutional."
   ]
  },
  {
   "cell_type": "code",
   "execution_count": 1,
   "metadata": {
    "cellView": "both",
    "colab": {
     "autoexec": {
      "startup": false,
      "wait_interval": 0
     }
    },
    "colab_type": "code",
    "id": "tm2CQN_Cpwj0"
   },
   "outputs": [],
   "source": [
    "# These are all the modules we'll be using later. Make sure you can import them\n",
    "# before proceeding further.\n",
    "from __future__ import print_function\n",
    "import numpy as np\n",
    "import tensorflow as tf\n",
    "from six.moves import cPickle as pickle\n",
    "from six.moves import range"
   ]
  },
  {
   "cell_type": "code",
   "execution_count": 3,
   "metadata": {
    "cellView": "both",
    "colab": {
     "autoexec": {
      "startup": false,
      "wait_interval": 0
     },
     "output_extras": [
      {
       "item_id": 1
      }
     ]
    },
    "colab_type": "code",
    "executionInfo": {
     "elapsed": 11948,
     "status": "ok",
     "timestamp": 1446658914837,
     "user": {
      "color": "",
      "displayName": "",
      "isAnonymous": false,
      "isMe": true,
      "permissionId": "",
      "photoUrl": "",
      "sessionId": "0",
      "userId": ""
     },
     "user_tz": 480
    },
    "id": "y3-cj1bpmuxc",
    "outputId": "016b1a51-0290-4b08-efdb-8c95ffc3cd01"
   },
   "outputs": [
    {
     "name": "stdout",
     "output_type": "stream",
     "text": [
      "Training set (200000, 28, 28) (200000,)\n",
      "Validation set (10000, 28, 28) (10000,)\n",
      "Test set (10000, 28, 28) (10000,)\n"
     ]
    }
   ],
   "source": [
    "pickle_file = '../2_DeepLearningPreliminaries/notMNIST.pickle'\n",
    "\n",
    "with open(pickle_file, 'rb') as f:\n",
    "    save = pickle.load(f)\n",
    "    train_dataset = save['train_dataset']\n",
    "    train_labels = save['train_labels']\n",
    "    valid_dataset = save['valid_dataset']\n",
    "    valid_labels = save['valid_labels']\n",
    "    test_dataset = save['test_dataset']\n",
    "    test_labels = save['test_labels']\n",
    "    del save  # hint to help gc free up memory\n",
    "    print('Training set', train_dataset.shape, train_labels.shape)\n",
    "    print('Validation set', valid_dataset.shape, valid_labels.shape)\n",
    "    print('Test set', test_dataset.shape, test_labels.shape)"
   ]
  },
  {
   "cell_type": "markdown",
   "metadata": {
    "colab_type": "text",
    "id": "L7aHrm6nGDMB"
   },
   "source": [
    "Reformat into a TensorFlow-friendly shape:\n",
    "- convolutions need the image data formatted as a cube (width by height by #channels)\n",
    "- labels as float 1-hot encodings."
   ]
  },
  {
   "cell_type": "code",
   "execution_count": 4,
   "metadata": {
    "cellView": "both",
    "colab": {
     "autoexec": {
      "startup": false,
      "wait_interval": 0
     },
     "output_extras": [
      {
       "item_id": 1
      }
     ]
    },
    "colab_type": "code",
    "executionInfo": {
     "elapsed": 11952,
     "status": "ok",
     "timestamp": 1446658914857,
     "user": {
      "color": "",
      "displayName": "",
      "isAnonymous": false,
      "isMe": true,
      "permissionId": "",
      "photoUrl": "",
      "sessionId": "0",
      "userId": ""
     },
     "user_tz": 480
    },
    "id": "IRSyYiIIGIzS",
    "outputId": "650a208c-8359-4852-f4f5-8bf10e80ef6c"
   },
   "outputs": [
    {
     "name": "stdout",
     "output_type": "stream",
     "text": [
      "Training set (200000, 28, 28, 1) (200000, 10)\n",
      "Validation set (10000, 28, 28, 1) (10000, 10)\n",
      "Test set (10000, 28, 28, 1) (10000, 10)\n"
     ]
    }
   ],
   "source": [
    "image_size = 28\n",
    "num_labels = 10\n",
    "num_channels = 1 # grayscale\n",
    "\n",
    "import numpy as np\n",
    "\n",
    "def reformat(dataset, labels):\n",
    "    dataset = dataset.reshape((-1, image_size, image_size, num_channels)).astype(np.float32)\n",
    "    labels = (np.arange(num_labels) == labels[:,None]).astype(np.float32)  # None does the same as np.newaxis\n",
    "    return dataset, labels\n",
    "\n",
    "train_dataset, train_labels = reformat(train_dataset, train_labels)\n",
    "valid_dataset, valid_labels = reformat(valid_dataset, valid_labels)\n",
    "test_dataset, test_labels = reformat(test_dataset, test_labels)\n",
    "print('Training set', train_dataset.shape, train_labels.shape)\n",
    "print('Validation set', valid_dataset.shape, valid_labels.shape)\n",
    "print('Test set', test_dataset.shape, test_labels.shape)"
   ]
  },
  {
   "cell_type": "code",
   "execution_count": 5,
   "metadata": {
    "cellView": "both",
    "colab": {
     "autoexec": {
      "startup": false,
      "wait_interval": 0
     }
    },
    "colab_type": "code",
    "id": "AgQDIREv02p1"
   },
   "outputs": [],
   "source": [
    "def accuracy(predictions, labels):\n",
    "    return (100.0 * np.sum(np.argmax(predictions, 1) == np.argmax(labels, 1))\n",
    "          / predictions.shape[0])"
   ]
  },
  {
   "cell_type": "markdown",
   "metadata": {
    "colab_type": "text",
    "id": "5rhgjmROXu2O"
   },
   "source": [
    "Let's build a small network with two convolutional layers, followed by two fully connected layer. Convolutional networks are more expensive computationally, so we'll limit its depth and number of fully connected nodes."
   ]
  },
  {
   "cell_type": "code",
   "execution_count": 14,
   "metadata": {
    "cellView": "both",
    "colab": {
     "autoexec": {
      "startup": false,
      "wait_interval": 0
     }
    },
    "colab_type": "code",
    "id": "IZYv70SvvOan"
   },
   "outputs": [],
   "source": [
    "batch_size = 10 \n",
    "patch_size = 5  \n",
    "depth = 16      \n",
    "num_hidden = 64\n",
    "\n",
    "newgraph = tf.Graph()\n",
    "\n",
    "only_visualize_model = False\n",
    "\n",
    "with newgraph.as_default():\n",
    "\n",
    "    tf_train_dataset = tf.placeholder(tf.float32, shape=\n",
    "        (batch_size, image_size, image_size, num_channels),name='train_data')\n",
    "    tf_train_labels = tf.placeholder(tf.float32, shape=(batch_size, num_labels),name='train_labels')\n",
    "    \n",
    "    # if we visualize the model, we hide the validation and testing data to simplify the graph\n",
    "    if (only_visualize_model == False):\n",
    "        # Input data.\n",
    "        tf_valid_dataset = tf.constant(valid_dataset)\n",
    "        tf_test_dataset = tf.constant(test_dataset)\n",
    "    \n",
    "    # Variables.\n",
    "    layer1_weights = tf.Variable(tf.truncated_normal(\n",
    "        [patch_size, patch_size, num_channels, depth], stddev=0.1),name='W1')\n",
    "    layer1_biases = tf.Variable(tf.zeros([depth]),name='B1')\n",
    "    \n",
    "    layer2_weights = tf.Variable(tf.truncated_normal(\n",
    "        [patch_size, patch_size, depth, depth], stddev=0.1),name='W2')\n",
    "    layer2_biases = tf.Variable(tf.constant(1.0, shape=[depth]),name='B2')\n",
    "    \n",
    "    layer3_weights = tf.Variable(tf.truncated_normal(\n",
    "        [image_size // 4 * image_size // 4 * depth, num_hidden], stddev=0.1),name='W3') # // is integer division!\n",
    "    layer3_biases = tf.Variable(tf.constant(1.0, shape=[num_hidden]),name='B3')\n",
    "    \n",
    "    layer4_weights = tf.Variable(tf.truncated_normal([num_hidden, num_labels], stddev=0.1),name='W4')\n",
    "    layer4_biases = tf.Variable(tf.constant(1.0, shape=[num_labels]),name='B4')\n",
    "  \n",
    "    # Model.\n",
    "    def model(data):\n",
    "        # layer 1\n",
    "        conv1 = tf.nn.conv2d(data, layer1_weights, [1, 2, 2, 1], padding='SAME', name='conv1')\n",
    "        hidden1 = tf.nn.relu(conv1 + layer1_biases,name='hidden1')\n",
    "        # layer 2\n",
    "        conv2 = tf.nn.conv2d(hidden1, layer2_weights, [1, 2, 2, 1], padding='SAME',name='conv2')\n",
    "        hidden2 = tf.nn.relu(conv2 + layer2_biases,name='hidden2')\n",
    "        # layer 3\n",
    "        shape = hidden2.get_shape().as_list()\n",
    "        b2 = shape[0]\n",
    "        num = shape[1]*shape[2]*shape[3]\n",
    "        reshape = tf.reshape(hidden2, [b2, num],name='reshape')\n",
    "        hidden3 = tf.nn.relu(tf.matmul(reshape, layer3_weights) + layer3_biases,name='hidden3')\n",
    "        # layer 4\n",
    "        output = tf.add(tf.matmul(hidden3, layer4_weights),layer4_biases,name='output')\n",
    "        return output\n",
    "  \n",
    "    # Training computation.\n",
    "    logits = model(tf_train_dataset)\n",
    "    with tf.name_scope('compute_loss'):\n",
    "        loss = tf.reduce_mean(tf.nn.softmax_cross_entropy_with_logits_v2(labels=tf_train_labels, logits=logits),name='loss')\n",
    "    \n",
    "    # Predictions for the training, validation, and test data.\n",
    "    train_prediction = tf.nn.softmax(logits,name='posteriors')\n",
    "\n",
    "    # if we visualize the model, we hide the optimizer, validation and testing data to simplify the graph\n",
    "    if (only_visualize_model == False):\n",
    "        # Optimizer.\n",
    "        optimizer = tf.train.GradientDescentOptimizer(0.05).minimize(loss)\n",
    "\n",
    "        valid_prediction = tf.nn.softmax(model(tf_valid_dataset))\n",
    "        test_prediction = tf.nn.softmax(model(tf_test_dataset))\n",
    "    \n",
    "    "
   ]
  },
  {
   "cell_type": "markdown",
   "metadata": {},
   "source": [
    "Now we have built the model, we either visualize it (if only_visualize_model is True), or we train it (if only_visualize_model is False)."
   ]
  },
  {
   "cell_type": "code",
   "execution_count": 15,
   "metadata": {
    "cellView": "both",
    "colab": {
     "autoexec": {
      "startup": false,
      "wait_interval": 0
     },
     "output_extras": [
      {
       "item_id": 37
      }
     ]
    },
    "colab_type": "code",
    "executionInfo": {
     "elapsed": 63292,
     "status": "ok",
     "timestamp": 1446658966251,
     "user": {
      "color": "",
      "displayName": "",
      "isAnonymous": false,
      "isMe": true,
      "permissionId": "",
      "photoUrl": "",
      "sessionId": "0",
      "userId": ""
     },
     "user_tz": 480
    },
    "id": "noKFb2UovVFR",
    "outputId": "28941338-2ef9-4088-8bd1-44295661e628"
   },
   "outputs": [
    {
     "name": "stdout",
     "output_type": "stream",
     "text": [
      "only_visualize_model is False, so we train the model and evaluate its performance.\n",
      "Initialized\n",
      "Minibatch loss at step 0: 2.777147\n",
      "Minibatch accuracy: 10.0%\n",
      "Validation accuracy: 10.1%\n",
      "Minibatch loss at step 50: 1.631157\n",
      "Minibatch accuracy: 50.0%\n",
      "Validation accuracy: 55.5%\n",
      "Minibatch loss at step 100: 1.086774\n",
      "Minibatch accuracy: 50.0%\n",
      "Validation accuracy: 72.7%\n",
      "Minibatch loss at step 150: 1.029990\n",
      "Minibatch accuracy: 80.0%\n",
      "Validation accuracy: 71.8%\n",
      "Minibatch loss at step 200: 0.642109\n",
      "Minibatch accuracy: 80.0%\n",
      "Validation accuracy: 77.1%\n",
      "Minibatch loss at step 250: 0.533019\n",
      "Minibatch accuracy: 80.0%\n",
      "Validation accuracy: 75.5%\n",
      "Minibatch loss at step 300: 0.733345\n",
      "Minibatch accuracy: 80.0%\n",
      "Validation accuracy: 76.0%\n",
      "Minibatch loss at step 350: 0.260809\n",
      "Minibatch accuracy: 90.0%\n",
      "Validation accuracy: 79.1%\n",
      "Minibatch loss at step 400: 0.193310\n",
      "Minibatch accuracy: 90.0%\n",
      "Validation accuracy: 80.1%\n",
      "Minibatch loss at step 450: 0.376432\n",
      "Minibatch accuracy: 90.0%\n",
      "Validation accuracy: 80.6%\n",
      "Minibatch loss at step 500: 0.651064\n",
      "Minibatch accuracy: 70.0%\n",
      "Validation accuracy: 80.2%\n",
      "Minibatch loss at step 550: 1.111377\n",
      "Minibatch accuracy: 60.0%\n",
      "Validation accuracy: 80.1%\n",
      "Minibatch loss at step 600: 0.710606\n",
      "Minibatch accuracy: 80.0%\n",
      "Validation accuracy: 80.8%\n",
      "Minibatch loss at step 650: 0.523754\n",
      "Minibatch accuracy: 70.0%\n",
      "Validation accuracy: 81.9%\n",
      "Minibatch loss at step 700: 0.542750\n",
      "Minibatch accuracy: 80.0%\n",
      "Validation accuracy: 80.0%\n",
      "Minibatch loss at step 750: 0.333202\n",
      "Minibatch accuracy: 90.0%\n",
      "Validation accuracy: 81.5%\n",
      "Minibatch loss at step 800: 0.915974\n",
      "Minibatch accuracy: 70.0%\n",
      "Validation accuracy: 82.5%\n",
      "Minibatch loss at step 850: 0.526657\n",
      "Minibatch accuracy: 70.0%\n",
      "Validation accuracy: 82.9%\n",
      "Minibatch loss at step 900: 1.322276\n",
      "Minibatch accuracy: 80.0%\n",
      "Validation accuracy: 82.1%\n",
      "Minibatch loss at step 950: 0.593852\n",
      "Minibatch accuracy: 80.0%\n",
      "Validation accuracy: 82.7%\n",
      "Minibatch loss at step 1000: 1.204529\n",
      "Minibatch accuracy: 70.0%\n",
      "Validation accuracy: 81.8%\n",
      "Test accuracy: 89.1%\n"
     ]
    }
   ],
   "source": [
    "num_steps = 1001\n",
    "\n",
    "def do_session(graph, only_visualize_model):\n",
    "\n",
    "    with tf.Session(graph=graph) as session:\n",
    "\n",
    "        if (only_visualize_model == True): \n",
    "            print('only_visualize_model is True, so we only save the graph to a log file and quit.')\n",
    "            writer = tf.summary.FileWriter('graphs', session.graph)\n",
    "            writer.close()\n",
    "            return \n",
    "\n",
    "        print('only_visualize_model is False, so we train the model and evaluate its performance.')\n",
    "        tf.global_variables_initializer().run()\n",
    "        print('Initialized')\n",
    "        for step in range(num_steps):\n",
    "            offset = (step * batch_size) % (train_labels.shape[0] - batch_size)\n",
    "            batch_data = train_dataset[offset:(offset + batch_size), :, :, :]\n",
    "            batch_labels = train_labels[offset:(offset + batch_size), :]\n",
    "            feed_dict = {tf_train_dataset : batch_data, tf_train_labels : batch_labels}\n",
    "            _, l, predictions = session.run([optimizer, loss, train_prediction], feed_dict=feed_dict)\n",
    "            if (step % 50 == 0):\n",
    "                print('Minibatch loss at step %d: %f' % (step, l))\n",
    "                print('Minibatch accuracy: %.1f%%' % accuracy(predictions, batch_labels))\n",
    "                print('Validation accuracy: %.1f%%' % accuracy(valid_prediction.eval(), valid_labels))\n",
    "\n",
    "        print('Test accuracy: %.1f%%' % accuracy(test_prediction.eval(), test_labels))\n",
    "    \n",
    "do_session(newgraph, only_visualize_model)\n",
    "    "
   ]
  },
  {
   "cell_type": "markdown",
   "metadata": {},
   "source": [
    "---\n",
    "Problem 0\n",
    "---------\n",
    "\n",
    "Complete exercise 5.2 of the lab manual. Be sure to really fill in all values in the table and answer all subquestions to improve your understanding of the code. It might be most convenient to do this using this markdown table generator ([Markdown Table Generator](https://www.tablesgenerator.com/markdown_tables), copy the markdown below, open the URL, go to file, import, paste table data, paste the data and press load) \n",
    "\n",
    "|          \t| input                          \t| operation                                                 \t| output                         \t|\n",
    "|----------\t|--------------------------------\t|-----------------------------------------------------------\t|--------------------------------\t|\n",
    "| layer 1  \t| data                           \t| convolution of `data` with `layer1_weights` (stride of 2, same padding), add `layer1_biases` along 4th dimension, take ReLU            \t| hidden1                        \t|\n",
    "| shapes 1 \t| 10x28x28x1                     \t| `layer1_weights`: 5x5x1x16, `layer1_biases`: 16 \t| 10x14x14x16  \t|\n",
    "| layer 2  \t| hidden1 \t| convolution of `hidden1` with `layer2_weights` (stride of 2, same padding), add `layer2_biases` along the 4th dimension, take ReLU                                                        \t| hidden2 \t|\n",
    "| shapes 2 \t| 10x14x14x16                             \t| `layer2_weights`: 5x5x16x16, `layer2_biases`: 16                                                        \t| 10x7x7x16                             \t|\n",
    "| layer 3  \t| hidden2                             \t| reshape `hidden2` into a 'flat' layer `reshape` (needed for the f.c. layer to work), do matrix multiplication on `reshape` and `layer3_weights`, add `layer3_biases` along the 2nd dimension and take ReLU                                                      \t| hidden3                             \t|\n",
    "| shapes 3 \t| 10x7x7x16                             \t| `layer3_weights`: 784x64, `layer3_biases`: 64, `reshape`: 10x784                                                        \t| 10x64                             \t|\n",
    "| layer 4  \t| hidden3                             \t| do matrix multiplication on `hidden3` and `layer4_weights`, add `layer4_biases`                                                        \t| output                             \t|\n",
    "| shapes 4 \t| 10x64                             \t| `layer4_weights`: 64x10, `layer4_biases`: 10                                                        \t| 10x10                             \t|\n",
    "\n",
    "\n",
    "---"
   ]
  },
  {
   "cell_type": "markdown",
   "metadata": {
    "colab_type": "text",
    "id": "KedKkn4EutIK"
   },
   "source": [
    "---\n",
    "Problem 1\n",
    "---------\n",
    "\n",
    "This is exercise 5.3a of the lab manual. The convolutional model above uses convolutions with stride 2 to reduce the dimensionality. Replace the strides by a max pooling operation (`nn.max_pool()`) of stride 2 and kernel size 2.\n",
    "\n",
    "---"
   ]
  },
  {
   "cell_type": "markdown",
   "metadata": {
    "colab_type": "text",
    "id": "klf21gpbAgb-"
   },
   "source": [
    "---\n",
    "Problem 2\n",
    "---------\n",
    "\n",
    "This is exercise 5.3b of the lab manual. Try to get the best performance you can using a convolutional net. See the lab manual for suggestions\n",
    "\n",
    "---"
   ]
  }
 ],
 "metadata": {
  "colab": {
   "default_view": {},
   "name": "4_convolutions.ipynb",
   "provenance": [],
   "version": "0.3.2",
   "views": {}
  },
  "kernelspec": {
   "display_name": "Python 3",
   "language": "python",
   "name": "python3"
  },
  "language_info": {
   "codemirror_mode": {
    "name": "ipython",
    "version": 3
   },
   "file_extension": ".py",
   "mimetype": "text/x-python",
   "name": "python",
   "nbconvert_exporter": "python",
   "pygments_lexer": "ipython3",
   "version": "3.6.3"
  }
 },
 "nbformat": 4,
 "nbformat_minor": 1
}
